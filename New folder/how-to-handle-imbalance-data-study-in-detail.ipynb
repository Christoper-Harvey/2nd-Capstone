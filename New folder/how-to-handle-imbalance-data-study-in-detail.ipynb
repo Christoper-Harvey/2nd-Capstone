{
 "cells": [
  {
   "cell_type": "markdown",
   "metadata": {
    "_cell_guid": "b132247d-6f04-5a90-1eec-7f0872a70a98"
   },
   "source": [
    "##Hi all as we know credit card fraud detection will have a imbalanced data i.e having more number of normal class than the number of fraud class\n",
    "\n",
    "###In this I will use Basic method of handling imbalance data which are\n",
    " ** This all I have done by using Analytics Vidya's blog please find the link [Analytics Vidya](https://www.analyticsvidhya.com/blog/2017/03/read-commonly-used-formats-using-python/)  **\n",
    "\n",
    "Undersampling:- it means taking the less number of majority class (In our case taking less number of Normal transactions so that our new data will be balanced\n",
    "\n",
    "Oversampling: it means using replicating the data of minority class (fraud class) so that we can have a balanced data\n",
    "\n",
    "SMOTE: it is also a type of oversampling but in this we will make the synthetic example of Minority data and will give as a balanced data\n",
    "\n",
    "First I will start with the Undersampling and will try to classify using these Models\n",
    "1. Decision Tree Classifier/ Random Forest Classifier\n",
    "\n",
    "2. Logistic regression\n",
    "\n",
    "3. SVM\n",
    "\n",
    "4. XGboost"
   ]
  },
  {
   "cell_type": "code",
   "execution_count": 1,
   "metadata": {
    "_cell_guid": "73c46801-7f23-67a2-47e8-03256085f659"
   },
   "outputs": [
    {
     "name": "stdout",
     "output_type": "stream",
     "text": [
      "creditcard.csv\n",
      "\n"
     ]
    }
   ],
   "source": [
    "# This Python 3 environment comes with many helpful analytics libraries installed\n",
    "# It is defined by the kaggle/python docker image: https://github.com/kaggle/docker-python\n",
    "# For example, here's several helpful packages to load in \n",
    "\n",
    "import numpy as np # linear algebra\n",
    "import pandas as pd # data processing, CSV file I/O (e.g. pd.read_csv)\n",
    "\n",
    "# Input data files are available in the \"../input/\" directory.\n",
    "# For example, running this (by clicking run or pressing Shift+Enter) will list the files in the input directory\n",
    "\n",
    "from subprocess import check_output\n",
    "print(check_output([\"ls\", \"../input\"]).decode(\"utf8\"))\n",
    "\n",
    "# Any results you write to the current directory are saved as output."
   ]
  },
  {
   "cell_type": "markdown",
   "metadata": {
    "_cell_guid": "228eec75-5856-5411-7e59-a4d419c2e520"
   },
   "source": [
    "###Lets start with Importing Libraries and data"
   ]
  },
  {
   "cell_type": "code",
   "execution_count": 2,
   "metadata": {
    "_cell_guid": "7acc51d2-e9db-908f-9b91-386e23629483"
   },
   "outputs": [
    {
     "name": "stderr",
     "output_type": "stream",
     "text": [
      "/opt/conda/lib/python3.6/site-packages/sklearn/cross_validation.py:43: DeprecationWarning: This module was deprecated in version 0.18 in favor of the model_selection module into which all the refactored classes and functions are moved. Also note that the interface of the new CV iterators are different from that of this module. This module will be removed in 0.20.\n",
      "  \"This module will be removed in 0.20.\", DeprecationWarning)\n"
     ]
    }
   ],
   "source": [
    "import pandas as pd # to import csv and for data manipulation\n",
    "import matplotlib.pyplot as plt # to plot graph\n",
    "import seaborn as sns # for intractve graphs\n",
    "import numpy as np # for linear algebra\n",
    "import datetime # to dela with date and time\n",
    "%matplotlib inline\n",
    "from sklearn.preprocessing import StandardScaler # for preprocessing the data\n",
    "from sklearn.ensemble import RandomForestClassifier # Random forest classifier\n",
    "from sklearn.tree import DecisionTreeClassifier # for Decision Tree classifier\n",
    "from sklearn.svm import SVC # for SVM classification\n",
    "from sklearn.linear_model import LogisticRegression\n",
    "from sklearn.cross_validation import train_test_split # to split the data\n",
    "from sklearn.cross_validation import KFold # For cross vbalidation\n",
    "from sklearn.model_selection import GridSearchCV # for tunnig hyper parameter it will use all combination of given parameters\n",
    "from sklearn.model_selection import RandomizedSearchCV # same for tunning hyper parameter but will use random combinations of parameters\n",
    "from sklearn.metrics import confusion_matrix,recall_score,precision_recall_curve,auc,roc_curve,roc_auc_score,classification_report\n",
    "import warnings\n",
    "warnings.filterwarnings('ignore')"
   ]
  },
  {
   "cell_type": "code",
   "execution_count": 3,
   "metadata": {
    "_cell_guid": "83f83459-d9f6-e2fd-9d11-77ee19a48ff0"
   },
   "outputs": [],
   "source": [
    "data = pd.read_csv(\"../input/creditcard.csv\",header = 0)"
   ]
  },
  {
   "cell_type": "markdown",
   "metadata": {
    "_cell_guid": "9022d43c-a547-8ab0-bbfc-dab6fb4b7c11"
   },
   "source": [
    "####Now explore the data to get insight in it"
   ]
  },
  {
   "cell_type": "code",
   "execution_count": 4,
   "metadata": {
    "_cell_guid": "be938861-a429-3bd1-eb90-45b7616770ee"
   },
   "outputs": [
    {
     "name": "stdout",
     "output_type": "stream",
     "text": [
      "<class 'pandas.core.frame.DataFrame'>\n",
      "RangeIndex: 284807 entries, 0 to 284806\n",
      "Data columns (total 31 columns):\n",
      "Time      284807 non-null float64\n",
      "V1        284807 non-null float64\n",
      "V2        284807 non-null float64\n",
      "V3        284807 non-null float64\n",
      "V4        284807 non-null float64\n",
      "V5        284807 non-null float64\n",
      "V6        284807 non-null float64\n",
      "V7        284807 non-null float64\n",
      "V8        284807 non-null float64\n",
      "V9        284807 non-null float64\n",
      "V10       284807 non-null float64\n",
      "V11       284807 non-null float64\n",
      "V12       284807 non-null float64\n",
      "V13       284807 non-null float64\n",
      "V14       284807 non-null float64\n",
      "V15       284807 non-null float64\n",
      "V16       284807 non-null float64\n",
      "V17       284807 non-null float64\n",
      "V18       284807 non-null float64\n",
      "V19       284807 non-null float64\n",
      "V20       284807 non-null float64\n",
      "V21       284807 non-null float64\n",
      "V22       284807 non-null float64\n",
      "V23       284807 non-null float64\n",
      "V24       284807 non-null float64\n",
      "V25       284807 non-null float64\n",
      "V26       284807 non-null float64\n",
      "V27       284807 non-null float64\n",
      "V28       284807 non-null float64\n",
      "Amount    284807 non-null float64\n",
      "Class     284807 non-null int64\n",
      "dtypes: float64(30), int64(1)\n",
      "memory usage: 67.4 MB\n"
     ]
    }
   ],
   "source": [
    "data.info()"
   ]
  },
  {
   "cell_type": "markdown",
   "metadata": {
    "_cell_guid": "6a3e8d76-0840-cf04-d4f1-e68ffddd442f"
   },
   "source": [
    "1. Hence we can see there are 284,807 rows and 31 columns which is a huge data\n",
    "2.  Time is also in float here mean it can be only seconds starting from a particular time"
   ]
  },
  {
   "cell_type": "code",
   "execution_count": 5,
   "metadata": {
    "_cell_guid": "03b4ce97-1f9f-ab4a-bcda-18afa1e775e6"
   },
   "outputs": [
    {
     "data": {
      "text/plain": [
       "<matplotlib.axes._subplots.AxesSubplot at 0x7f6dabaaf128>"
      ]
     },
     "execution_count": 5,
     "metadata": {},
     "output_type": "execute_result"
    },
    {
     "data": {
      "image/png": "[encoded data removed]",
      "text/plain": [
       "<matplotlib.figure.Figure at 0x7f6db8266320>"
      ]
     },
     "metadata": {},
     "output_type": "display_data"
    }
   ],
   "source": [
    "# Now lets check the class distributions\n",
    "sns.countplot(\"Class\",data=data)"
   ]
  },
  {
   "cell_type": "markdown",
   "metadata": {
    "_cell_guid": "b07af191-1a1b-27fb-9b3c-462f2df5cf20"
   },
   "source": [
    "1. As we know data is imbalanced and this graph also confirmed it "
   ]
  },
  {
   "cell_type": "code",
   "execution_count": 6,
   "metadata": {
    "_cell_guid": "8c79df42-9432-e39e-cb27-6c53245f9ac5"
   },
   "outputs": [
    {
     "name": "stdout",
     "output_type": "stream",
     "text": [
      "percentage of normal transacation is 99.82725143693798\n",
      "percentage of fraud transacation 0.1727485630620034\n"
     ]
    }
   ],
   "source": [
    "# now let us check in the number of Percentage\n",
    "Count_Normal_transacation = len(data[data[\"Class\"]==0]) # normal transaction are repersented by 0\n",
    "Count_Fraud_transacation = len(data[data[\"Class\"]==1]) # fraud by 1\n",
    "Percentage_of_Normal_transacation = Count_Normal_transacation/(Count_Normal_transacation+Count_Fraud_transacation)\n",
    "print(\"percentage of normal transacation is\",Percentage_of_Normal_transacation*100)\n",
    "Percentage_of_Fraud_transacation= Count_Fraud_transacation/(Count_Normal_transacation+Count_Fraud_transacation)\n",
    "print(\"percentage of fraud transacation\",Percentage_of_Fraud_transacation*100)"
   ]
  },
  {
   "cell_type": "markdown",
   "metadata": {
    "_cell_guid": "6bdeb418-1ad4-4101-a97f-218cad9d60b7"
   },
   "source": [
    "1. Hence in data there is only 0.17 % are the fraud transcation while 99.83 are valid transcation\n",
    "2. So now we have to do resampling of this data\n",
    "3. before doing resampling lets have look at the amount related to valid transcation and fraud transcation"
   ]
  },
  {
   "cell_type": "code",
   "execution_count": 7,
   "metadata": {
    "_cell_guid": "29942ac2-ea51-aa4f-ae2f-4d245908fb45"
   },
   "outputs": [
    {
     "data": {
      "text/plain": [
       "<matplotlib.axes._subplots.AxesSubplot at 0x7f6da691cf60>"
      ]
     },
     "execution_count": 7,
     "metadata": {},
     "output_type": "execute_result"
    },
    {
     "data": {
      "image/png": "[encoded data removed]",
      "text/plain": [
       "<matplotlib.figure.Figure at 0x7f6dababb5c0>"
      ]
     },
     "metadata": {},
     "output_type": "display_data"
    }
   ],
   "source": [
    "Fraud_transacation = data[data[\"Class\"]==1]\n",
    "Normal_transacation= data[data[\"Class\"]==0]\n",
    "plt.figure(figsize=(10,6))\n",
    "plt.subplot(121)\n",
    "Fraud_transacation.Amount.plot.hist(title=\"Fraud Transacation\")\n",
    "plt.subplot(122)\n",
    "Normal_transacation.Amount.plot.hist(title=\"Normal Transaction\")"
   ]
  },
  {
   "cell_type": "code",
   "execution_count": 8,
   "metadata": {
    "_cell_guid": "1c54fd02-d25e-0763-5c15-b35e3b0df4d2"
   },
   "outputs": [
    {
     "data": {
      "text/plain": [
       "<matplotlib.axes._subplots.AxesSubplot at 0x7f6d98ecb0f0>"
      ]
     },
     "execution_count": 8,
     "metadata": {},
     "output_type": "execute_result"
    },
    {
     "data": {
      "image/png": "[encoded data removed]",
      "text/plain": [
       "<matplotlib.figure.Figure at 0x7f6dababb240>"
      ]
     },
     "metadata": {},
     "output_type": "display_data"
    }
   ],
   "source": [
    "# the distribution for Normal transction is not clear and it seams that all transaction are less than 2.5 K\n",
    "# So plot graph for same \n",
    "Fraud_transacation = data[data[\"Class\"]==1]\n",
    "Normal_transacation= data[data[\"Class\"]==0]\n",
    "plt.figure(figsize=(10,6))\n",
    "plt.subplot(121)\n",
    "Fraud_transacation[Fraud_transacation[\"Amount\"]<= 2500].Amount.plot.hist(title=\"Fraud Tranascation\")\n",
    "plt.subplot(122)\n",
    "Normal_transacation[Normal_transacation[\"Amount\"]<=2500].Amount.plot.hist(title=\"Normal Transaction\")"
   ]
  },
  {
   "cell_type": "markdown",
   "metadata": {
    "_cell_guid": "bf6856cc-3e0a-5579-b901-83bd51f3ffc4"
   },
   "source": [
    "1. Here now after exploring data we can say there is no pattern in data\n",
    "2. Now lets start with resmapling of data"
   ]
  },
  {
   "cell_type": "markdown",
   "metadata": {
    "_cell_guid": "e7c06498-d474-1e15-ef69-7ead60df63c6"
   },
   "source": [
    "###ReSampling - Under Sampling"
   ]
  },
  {
   "cell_type": "markdown",
   "metadata": {
    "_cell_guid": "08fb5763-fadd-e215-0ad4-33c9ee97ec7b"
   },
   "source": [
    "Before re sampling lets have look at the different accuracy matrices\n",
    "\n",
    "Accuracy = TP+TN/Total\n",
    "\n",
    "Precison = TP/(TP+FP)\n",
    "\n",
    "Recall = TP/(TP+FN)\n",
    "\n",
    "TP = True possitive means no of possitve cases which are predicted possitive\n",
    "\n",
    "TN = True negative means no of negative cases which are predicted negative\n",
    "\n",
    "FP = False possitve means no of negative cases which are predicted possitive\n",
    "\n",
    "FN= False Negative means no of possitive cases which are predicted negative\n",
    "\n",
    "Now for our case recall will be a better option because in these case no of normal transacations will be very high than the no of fraud cases and sometime a fraud case will be predicted as normal. So, recall will give us a sense of only fraud cases\n",
    "\n",
    "Resampling\n",
    "\n",
    "in this we will resample our data with different size\n",
    "\n",
    "then we will try to use this resampled data to train our model\n",
    "\n",
    "then we will use this model to predict for our original data"
   ]
  },
  {
   "cell_type": "code",
   "execution_count": 9,
   "metadata": {
    "_cell_guid": "df60d504-c140-7de8-9343-bb7a4c4eb7e7"
   },
   "outputs": [],
   "source": [
    "# for undersampling we need a portion of majority class and will take whole data of minority class\n",
    "# count fraud transaction is the total number of fraud transaction\n",
    "# now lets us see the index of fraud cases\n",
    "fraud_indices= np.array(data[data.Class==1].index)\n",
    "normal_indices = np.array(data[data.Class==0].index)\n",
    "#now let us a define a function for make undersample data with different proportion\n",
    "#different proportion means with different proportion of normal classes of data\n",
    "def undersample(normal_indices,fraud_indices,times):#times denote the normal data = times*fraud data\n",
    "    Normal_indices_undersample = np.array(np.random.choice(normal_indices,(times*Count_Fraud_transacation),replace=False))\n",
    "    undersample_data= np.concatenate([fraud_indices,Normal_indices_undersample])\n",
    "    undersample_data = data.iloc[undersample_data,:]\n",
    "    \n",
    "    print(\"the normal transacation proportion is :\",len(undersample_data[undersample_data.Class==0])/len(undersample_data[undersample_data.Class]))\n",
    "    print(\"the fraud transacation proportion is :\",len(undersample_data[undersample_data.Class==1])/len(undersample_data[undersample_data.Class]))\n",
    "    print(\"total number of record in resampled data is:\",len(undersample_data[undersample_data.Class]))\n",
    "    return(undersample_data)"
   ]
  },
  {
   "cell_type": "code",
   "execution_count": 10,
   "metadata": {
    "_cell_guid": "12f3b2ed-4231-cddc-9959-d13491af2497"
   },
   "outputs": [],
   "source": [
    "## first make a model function for modeling with confusion matrix\n",
    "def model(model,features_train,features_test,labels_train,labels_test):\n",
    "    clf= model\n",
    "    clf.fit(features_train,labels_train.values.ravel())\n",
    "    pred=clf.predict(features_test)\n",
    "    cnf_matrix=confusion_matrix(labels_test,pred)\n",
    "    print(\"the recall for this model is :\",cnf_matrix[1,1]/(cnf_matrix[1,1]+cnf_matrix[1,0]))\n",
    "    fig= plt.figure(figsize=(6,3))# to plot the graph\n",
    "    print(\"TP\",cnf_matrix[1,1,]) # no of fraud transaction which are predicted fraud\n",
    "    print(\"TN\",cnf_matrix[0,0]) # no. of normal transaction which are predited normal\n",
    "    print(\"FP\",cnf_matrix[0,1]) # no of normal transaction which are predicted fraud\n",
    "    print(\"FN\",cnf_matrix[1,0]) # no of fraud Transaction which are predicted normal\n",
    "    sns.heatmap(cnf_matrix,cmap=\"coolwarm_r\",annot=True,linewidths=0.5)\n",
    "    plt.title(\"Confusion_matrix\")\n",
    "    plt.xlabel(\"Predicted_class\")\n",
    "    plt.ylabel(\"Real class\")\n",
    "    plt.show()\n",
    "    print(\"\\n----------Classification Report------------------------------------\")\n",
    "    print(classification_report(labels_test,pred))\n",
    "    "
   ]
  },
  {
   "cell_type": "code",
   "execution_count": 11,
   "metadata": {
    "_cell_guid": "4990e8ea-0e93-342c-4c1a-39117c1814d3"
   },
   "outputs": [],
   "source": [
    "def data_prepration(x): # preparing data for training and testing as we are going to use different data \n",
    "    #again and again so make a function\n",
    "    x_features= x.ix[:,x.columns != \"Class\"]\n",
    "    x_labels=x.ix[:,x.columns==\"Class\"]\n",
    "    x_features_train,x_features_test,x_labels_train,x_labels_test = train_test_split(x_features,x_labels,test_size=0.3)\n",
    "    print(\"length of training data\")\n",
    "    print(len(x_features_train))\n",
    "    print(\"length of test data\")\n",
    "    print(len(x_features_test))\n",
    "    return(x_features_train,x_features_test,x_labels_train,x_labels_test)"
   ]
  },
  {
   "cell_type": "code",
   "execution_count": 12,
   "metadata": {
    "_cell_guid": "8c5529ce-71ca-b24b-b544-e3d1443115f9"
   },
   "outputs": [
    {
     "data": {
      "text/html": [
       "<div>\n",
       "<table border=\"1\" class=\"dataframe\">\n",
       "  <thead>\n",
       "    <tr style=\"text-align: right;\">\n",
       "      <th></th>\n",
       "      <th>V1</th>\n",
       "      <th>V2</th>\n",
       "      <th>V3</th>\n",
       "      <th>V4</th>\n",
       "      <th>V5</th>\n",
       "      <th>V6</th>\n",
       "      <th>V7</th>\n",
       "      <th>V8</th>\n",
       "      <th>V9</th>\n",
       "      <th>V10</th>\n",
       "      <th>...</th>\n",
       "      <th>V21</th>\n",
       "      <th>V22</th>\n",
       "      <th>V23</th>\n",
       "      <th>V24</th>\n",
       "      <th>V25</th>\n",
       "      <th>V26</th>\n",
       "      <th>V27</th>\n",
       "      <th>V28</th>\n",
       "      <th>Class</th>\n",
       "      <th>Normalized Amount</th>\n",
       "    </tr>\n",
       "  </thead>\n",
       "  <tbody>\n",
       "    <tr>\n",
       "      <th>0</th>\n",
       "      <td>-1.359807</td>\n",
       "      <td>-0.072781</td>\n",
       "      <td>2.536347</td>\n",
       "      <td>1.378155</td>\n",
       "      <td>-0.338321</td>\n",
       "      <td>0.462388</td>\n",
       "      <td>0.239599</td>\n",
       "      <td>0.098698</td>\n",
       "      <td>0.363787</td>\n",
       "      <td>0.090794</td>\n",
       "      <td>...</td>\n",
       "      <td>-0.018307</td>\n",
       "      <td>0.277838</td>\n",
       "      <td>-0.110474</td>\n",
       "      <td>0.066928</td>\n",
       "      <td>0.128539</td>\n",
       "      <td>-0.189115</td>\n",
       "      <td>0.133558</td>\n",
       "      <td>-0.021053</td>\n",
       "      <td>0</td>\n",
       "      <td>0.244964</td>\n",
       "    </tr>\n",
       "    <tr>\n",
       "      <th>1</th>\n",
       "      <td>1.191857</td>\n",
       "      <td>0.266151</td>\n",
       "      <td>0.166480</td>\n",
       "      <td>0.448154</td>\n",
       "      <td>0.060018</td>\n",
       "      <td>-0.082361</td>\n",
       "      <td>-0.078803</td>\n",
       "      <td>0.085102</td>\n",
       "      <td>-0.255425</td>\n",
       "      <td>-0.166974</td>\n",
       "      <td>...</td>\n",
       "      <td>-0.225775</td>\n",
       "      <td>-0.638672</td>\n",
       "      <td>0.101288</td>\n",
       "      <td>-0.339846</td>\n",
       "      <td>0.167170</td>\n",
       "      <td>0.125895</td>\n",
       "      <td>-0.008983</td>\n",
       "      <td>0.014724</td>\n",
       "      <td>0</td>\n",
       "      <td>-0.342475</td>\n",
       "    </tr>\n",
       "    <tr>\n",
       "      <th>2</th>\n",
       "      <td>-1.358354</td>\n",
       "      <td>-1.340163</td>\n",
       "      <td>1.773209</td>\n",
       "      <td>0.379780</td>\n",
       "      <td>-0.503198</td>\n",
       "      <td>1.800499</td>\n",
       "      <td>0.791461</td>\n",
       "      <td>0.247676</td>\n",
       "      <td>-1.514654</td>\n",
       "      <td>0.207643</td>\n",
       "      <td>...</td>\n",
       "      <td>0.247998</td>\n",
       "      <td>0.771679</td>\n",
       "      <td>0.909412</td>\n",
       "      <td>-0.689281</td>\n",
       "      <td>-0.327642</td>\n",
       "      <td>-0.139097</td>\n",
       "      <td>-0.055353</td>\n",
       "      <td>-0.059752</td>\n",
       "      <td>0</td>\n",
       "      <td>1.160686</td>\n",
       "    </tr>\n",
       "    <tr>\n",
       "      <th>3</th>\n",
       "      <td>-0.966272</td>\n",
       "      <td>-0.185226</td>\n",
       "      <td>1.792993</td>\n",
       "      <td>-0.863291</td>\n",
       "      <td>-0.010309</td>\n",
       "      <td>1.247203</td>\n",
       "      <td>0.237609</td>\n",
       "      <td>0.377436</td>\n",
       "      <td>-1.387024</td>\n",
       "      <td>-0.054952</td>\n",
       "      <td>...</td>\n",
       "      <td>-0.108300</td>\n",
       "      <td>0.005274</td>\n",
       "      <td>-0.190321</td>\n",
       "      <td>-1.175575</td>\n",
       "      <td>0.647376</td>\n",
       "      <td>-0.221929</td>\n",
       "      <td>0.062723</td>\n",
       "      <td>0.061458</td>\n",
       "      <td>0</td>\n",
       "      <td>0.140534</td>\n",
       "    </tr>\n",
       "    <tr>\n",
       "      <th>4</th>\n",
       "      <td>-1.158233</td>\n",
       "      <td>0.877737</td>\n",
       "      <td>1.548718</td>\n",
       "      <td>0.403034</td>\n",
       "      <td>-0.407193</td>\n",
       "      <td>0.095921</td>\n",
       "      <td>0.592941</td>\n",
       "      <td>-0.270533</td>\n",
       "      <td>0.817739</td>\n",
       "      <td>0.753074</td>\n",
       "      <td>...</td>\n",
       "      <td>-0.009431</td>\n",
       "      <td>0.798278</td>\n",
       "      <td>-0.137458</td>\n",
       "      <td>0.141267</td>\n",
       "      <td>-0.206010</td>\n",
       "      <td>0.502292</td>\n",
       "      <td>0.219422</td>\n",
       "      <td>0.215153</td>\n",
       "      <td>0</td>\n",
       "      <td>-0.073403</td>\n",
       "    </tr>\n",
       "  </tbody>\n",
       "</table>\n",
       "<p>5 rows × 30 columns</p>\n",
       "</div>"
      ],
      "text/plain": [
       "         V1        V2        V3        V4        V5        V6        V7  \\\n",
       "0 -1.359807 -0.072781  2.536347  1.378155 -0.338321  0.462388  0.239599   \n",
       "1  1.191857  0.266151  0.166480  0.448154  0.060018 -0.082361 -0.078803   \n",
       "2 -1.358354 -1.340163  1.773209  0.379780 -0.503198  1.800499  0.791461   \n",
       "3 -0.966272 -0.185226  1.792993 -0.863291 -0.010309  1.247203  0.237609   \n",
       "4 -1.158233  0.877737  1.548718  0.403034 -0.407193  0.095921  0.592941   \n",
       "\n",
       "         V8        V9       V10        ...               V21       V22  \\\n",
       "0  0.098698  0.363787  0.090794        ...         -0.018307  0.277838   \n",
       "1  0.085102 -0.255425 -0.166974        ...         -0.225775 -0.638672   \n",
       "2  0.247676 -1.514654  0.207643        ...          0.247998  0.771679   \n",
       "3  0.377436 -1.387024 -0.054952        ...         -0.108300  0.005274   \n",
       "4 -0.270533  0.817739  0.753074        ...         -0.009431  0.798278   \n",
       "\n",
       "        V23       V24       V25       V26       V27       V28  Class  \\\n",
       "0 -0.110474  0.066928  0.128539 -0.189115  0.133558 -0.021053      0   \n",
       "1  0.101288 -0.339846  0.167170  0.125895 -0.008983  0.014724      0   \n",
       "2  0.909412 -0.689281 -0.327642 -0.139097 -0.055353 -0.059752      0   \n",
       "3 -0.190321 -1.175575  0.647376 -0.221929  0.062723  0.061458      0   \n",
       "4 -0.137458  0.141267 -0.206010  0.502292  0.219422  0.215153      0   \n",
       "\n",
       "   Normalized Amount  \n",
       "0           0.244964  \n",
       "1          -0.342475  \n",
       "2           1.160686  \n",
       "3           0.140534  \n",
       "4          -0.073403  \n",
       "\n",
       "[5 rows x 30 columns]"
      ]
     },
     "execution_count": 12,
     "metadata": {},
     "output_type": "execute_result"
    }
   ],
   "source": [
    "# before starting we should standridze our ampount column\n",
    "data[\"Normalized Amount\"] = StandardScaler().fit_transform(data['Amount'].reshape(-1, 1))\n",
    "data.drop([\"Time\",\"Amount\"],axis=1,inplace=True)\n",
    "data.head()"
   ]
  },
  {
   "cell_type": "markdown",
   "metadata": {
    "_cell_guid": "95e5165c-4ad8-1a17-021c-9024c26bd80a"
   },
   "source": [
    "### Logistic Regression with Undersample Data"
   ]
  },
  {
   "cell_type": "code",
   "execution_count": 13,
   "metadata": {
    "_cell_guid": "cebaabc9-548c-81b1-c0bf-e0ef638cab2a"
   },
   "outputs": [
    {
     "name": "stdout",
     "output_type": "stream",
     "text": [
      "the undersample data for 1 proportion\n",
      "\n",
      "the normal transacation proportion is : 0.5\n",
      "the fraud transacation proportion is : 0.5\n",
      "total number of record in resampled data is: 984\n",
      "------------------------------------------------------------\n",
      "\n",
      "the model classification for 1 proportion\n",
      "\n",
      "length of training data\n",
      "688\n",
      "length of test data\n",
      "296\n",
      "\n",
      "the recall for this model is : 0.897260273973\n",
      "TP 131\n",
      "TN 147\n",
      "FP 3\n",
      "FN 15\n"
     ]
    },
    {
     "data": {
      "image/png": "[encoded data removed]",
      "text/plain": [
       "<matplotlib.figure.Figure at 0x7f6da6a05c50>"
      ]
     },
     "metadata": {},
     "output_type": "display_data"
    },
    {
     "name": "stdout",
     "output_type": "stream",
     "text": [
      "\n",
      "----------Classification Report------------------------------------\n",
      "             precision    recall  f1-score   support\n",
      "\n",
      "          0       0.91      0.98      0.94       150\n",
      "          1       0.98      0.90      0.94       146\n",
      "\n",
      "avg / total       0.94      0.94      0.94       296\n",
      "\n",
      "________________________________________________________________________________________________________\n",
      "the undersample data for 2 proportion\n",
      "\n",
      "the normal transacation proportion is : 0.6666666666666666\n",
      "the fraud transacation proportion is : 0.3333333333333333\n",
      "total number of record in resampled data is: 1476\n",
      "------------------------------------------------------------\n",
      "\n",
      "the model classification for 2 proportion\n",
      "\n",
      "length of training data\n",
      "1033\n",
      "length of test data\n",
      "443\n",
      "\n",
      "the recall for this model is : 0.929078014184\n",
      "TP 131\n",
      "TN 296\n",
      "FP 6\n",
      "FN 10\n"
     ]
    },
    {
     "data": {
      "image/png": "[encoded data removed]",
      "text/plain": [
       "<matplotlib.figure.Figure at 0x7f6d98dd7668>"
      ]
     },
     "metadata": {},
     "output_type": "display_data"
    },
    {
     "name": "stdout",
     "output_type": "stream",
     "text": [
      "\n",
      "----------Classification Report------------------------------------\n",
      "             precision    recall  f1-score   support\n",
      "\n",
      "          0       0.97      0.98      0.97       302\n",
      "          1       0.96      0.93      0.94       141\n",
      "\n",
      "avg / total       0.96      0.96      0.96       443\n",
      "\n",
      "________________________________________________________________________________________________________\n",
      "the undersample data for 3 proportion\n",
      "\n",
      "the normal transacation proportion is : 0.75\n",
      "the fraud transacation proportion is : 0.25\n",
      "total number of record in resampled data is: 1968\n",
      "------------------------------------------------------------\n",
      "\n",
      "the model classification for 3 proportion\n",
      "\n",
      "length of training data\n",
      "1377\n",
      "length of test data\n",
      "591\n",
      "\n",
      "the recall for this model is : 0.892086330935\n",
      "TP 124\n",
      "TN 446\n",
      "FP 6\n",
      "FN 15\n"
     ]
    },
    {
     "data": {
      "image/png": "[encoded data removed]",
      "text/plain": [
       "<matplotlib.figure.Figure at 0x7f6da28182e8>"
      ]
     },
     "metadata": {},
     "output_type": "display_data"
    },
    {
     "name": "stdout",
     "output_type": "stream",
     "text": [
      "\n",
      "----------Classification Report------------------------------------\n",
      "             precision    recall  f1-score   support\n",
      "\n",
      "          0       0.97      0.99      0.98       452\n",
      "          1       0.95      0.89      0.92       139\n",
      "\n",
      "avg / total       0.96      0.96      0.96       591\n",
      "\n",
      "________________________________________________________________________________________________________\n"
     ]
    }
   ],
   "source": [
    "# Now make undersample data with differnt portion\n",
    "# here i will take normal trasaction in  0..5 %, 0.66% and 0.75 % proportion of total data now do this for \n",
    "for i in range(1,4):\n",
    "    print(\"the undersample data for {} proportion\".format(i))\n",
    "    print()\n",
    "    Undersample_data = undersample(normal_indices,fraud_indices,i)\n",
    "    print(\"------------------------------------------------------------\")\n",
    "    print()\n",
    "    print(\"the model classification for {} proportion\".format(i))\n",
    "    print()\n",
    "    undersample_features_train,undersample_features_test,undersample_labels_train,undersample_labels_test=data_prepration(Undersample_data)\n",
    "    print()\n",
    "    clf=LogisticRegression()\n",
    "    model(clf,undersample_features_train,undersample_features_test,undersample_labels_train,undersample_labels_test)\n",
    "    print(\"________________________________________________________________________________________________________\")\n",
    "    \n",
    "# here 1st proportion conatain 50% normal transaction\n",
    "#Proportion 2nd contains 66% noraml transaction\n",
    "#proportion 3rd contains 75 % normal transaction"
   ]
  },
  {
   "cell_type": "markdown",
   "metadata": {
    "_cell_guid": "6dc3fc4b-a979-60ce-5c86-e2d912b65e57"
   },
   "source": [
    " 1. As the number of normal transaction is increasing the recall for fraud transcation is decreasing\n",
    " 2. TP = no of fraud transaction which are predicted fraud\n",
    " 3.  TN = no. of normal transaction which are predicted normal\n",
    " 4.  FP =  no of normal transaction which are predicted fraud\n",
    " 5.  FN =no of fraud Transaction which are predicted normal"
   ]
  },
  {
   "cell_type": "code",
   "execution_count": 14,
   "metadata": {
    "_cell_guid": "8386da63-0882-bc9c-e84b-c679d307c341"
   },
   "outputs": [
    {
     "name": "stdout",
     "output_type": "stream",
     "text": [
      "the undersample data for 1 proportion\n",
      "\n",
      "the normal transacation proportion is : 0.5\n",
      "the fraud transacation proportion is : 0.5\n",
      "total number of record in resampled data is: 984\n",
      "------------------------------------------------------------\n",
      "\n",
      "the model classification for 1 proportion\n",
      "\n",
      "length of training data\n",
      "688\n",
      "length of test data\n",
      "296\n",
      "length of training data\n",
      "199364\n",
      "length of test data\n",
      "85443\n",
      "\n",
      "the recall for this model is : 0.923076923077\n",
      "TP 132\n",
      "TN 81568\n",
      "FP 3732\n",
      "FN 11\n"
     ]
    },
    {
     "data": {
      "image/png": "[encoded data removed]",
      "text/plain": [
       "<matplotlib.figure.Figure at 0x7f6d98dd72e8>"
      ]
     },
     "metadata": {},
     "output_type": "display_data"
    },
    {
     "name": "stdout",
     "output_type": "stream",
     "text": [
      "\n",
      "----------Classification Report------------------------------------\n",
      "             precision    recall  f1-score   support\n",
      "\n",
      "          0       1.00      0.96      0.98     85300\n",
      "          1       0.03      0.92      0.07       143\n",
      "\n",
      "avg / total       1.00      0.96      0.98     85443\n",
      "\n",
      "_________________________________________________________________________________________\n",
      "the undersample data for 2 proportion\n",
      "\n",
      "the normal transacation proportion is : 0.6666666666666666\n",
      "the fraud transacation proportion is : 0.3333333333333333\n",
      "total number of record in resampled data is: 1476\n",
      "------------------------------------------------------------\n",
      "\n",
      "the model classification for 2 proportion\n",
      "\n",
      "length of training data\n",
      "1033\n",
      "length of test data\n",
      "443\n",
      "length of training data\n",
      "199364\n",
      "length of test data\n",
      "85443\n",
      "\n",
      "the recall for this model is : 0.913333333333\n",
      "TP 137\n",
      "TN 84232\n",
      "FP 1061\n",
      "FN 13\n"
     ]
    },
    {
     "data": {
      "image/png": "[encoded data removed]",
      "text/plain": [
       "<matplotlib.figure.Figure at 0x7f6da266f518>"
      ]
     },
     "metadata": {},
     "output_type": "display_data"
    },
    {
     "name": "stdout",
     "output_type": "stream",
     "text": [
      "\n",
      "----------Classification Report------------------------------------\n",
      "             precision    recall  f1-score   support\n",
      "\n",
      "          0       1.00      0.99      0.99     85293\n",
      "          1       0.11      0.91      0.20       150\n",
      "\n",
      "avg / total       1.00      0.99      0.99     85443\n",
      "\n",
      "_________________________________________________________________________________________\n",
      "the undersample data for 3 proportion\n",
      "\n",
      "the normal transacation proportion is : 0.75\n",
      "the fraud transacation proportion is : 0.25\n",
      "total number of record in resampled data is: 1968\n",
      "------------------------------------------------------------\n",
      "\n",
      "the model classification for 3 proportion\n",
      "\n",
      "length of training data\n",
      "1377\n",
      "length of test data\n",
      "591\n",
      "length of training data\n",
      "199364\n",
      "length of test data\n",
      "85443\n",
      "\n",
      "the recall for this model is : 0.894366197183\n",
      "TP 127\n",
      "TN 84750\n",
      "FP 551\n",
      "FN 15\n"
     ]
    },
    {
     "data": {
      "image/png": "[encoded data removed]",
      "text/plain": [
       "<matplotlib.figure.Figure at 0x7f6da266f9b0>"
      ]
     },
     "metadata": {},
     "output_type": "display_data"
    },
    {
     "name": "stdout",
     "output_type": "stream",
     "text": [
      "\n",
      "----------Classification Report------------------------------------\n",
      "             precision    recall  f1-score   support\n",
      "\n",
      "          0       1.00      0.99      1.00     85301\n",
      "          1       0.19      0.89      0.31       142\n",
      "\n",
      "avg / total       1.00      0.99      1.00     85443\n",
      "\n",
      "_________________________________________________________________________________________\n"
     ]
    }
   ],
   "source": [
    "#let us train this model using undersample data and test for the whole data test set \n",
    "for i in range(1,4):\n",
    "    print(\"the undersample data for {} proportion\".format(i))\n",
    "    print()\n",
    "    Undersample_data = undersample(normal_indices,fraud_indices,i)\n",
    "    print(\"------------------------------------------------------------\")\n",
    "    print()\n",
    "    print(\"the model classification for {} proportion\".format(i))\n",
    "    print()\n",
    "    undersample_features_train,undersample_features_test,undersample_labels_train,undersample_labels_test=data_prepration(Undersample_data)\n",
    "    data_features_train,data_features_test,data_labels_train,data_labels_test=data_prepration(data) \n",
    "    #the partion for whole data\n",
    "    print()\n",
    "    clf=LogisticRegression()\n",
    "    model(clf,undersample_features_train,data_features_test,undersample_labels_train,data_labels_test)\n",
    "    # here training for the undersample data but tatsing for whole data\n",
    "    print(\"_________________________________________________________________________________________\")"
   ]
  },
  {
   "cell_type": "markdown",
   "metadata": {
    "_cell_guid": "f7d70d65-2785-06aa-781a-334052095a1d"
   },
   "source": [
    "1. Here we can see it is following same recall pattern as it  was for under sample data that's sounds good but if we have look at the precision is very less\n",
    "\n",
    "2. So we should built a model which is correct overall\n",
    "\n",
    "3. Precision is less means we are predicting other class wrong like as for our third part  there were 953 transaction are predicted fraud it means we and recall is good then it means we are catching fraud transaction very well but we are catching innocent transaction also i.e which are not fraud.\n",
    "\n",
    "4. So with recall our precision should be better\n",
    "\n",
    "5. if we go by this model then we are going to put 953 innocents in jail with the all criminal who have actually done this\n",
    "6. Hence we are mainly lacking in the precision how can we increase our precision\n",
    "7. Don't get confuse with above output showing that the two training data and two test data first one is for undersample data  while another one is for our whole data"
   ]
  },
  {
   "cell_type": "markdown",
   "metadata": {
    "_cell_guid": "f375e55d-d9c6-6e87-6d60-b18afc2e65b2"
   },
   "source": [
    "1.**Try with SVM and then Random Forest in same Manner**\n",
    "\n",
    "2. from Random forest we can get which features are more important"
   ]
  },
  {
   "cell_type": "markdown",
   "metadata": {
    "_cell_guid": "45540e79-c2e0-4b52-6b55-5e3c8bb2f397"
   },
   "source": [
    "*SVM with Undersample data*"
   ]
  },
  {
   "cell_type": "code",
   "execution_count": 15,
   "metadata": {
    "_cell_guid": "ff78a5e3-dd54-5626-b505-9022a21690c5"
   },
   "outputs": [
    {
     "name": "stdout",
     "output_type": "stream",
     "text": [
      "the undersample data for 1 proportion\n",
      "\n",
      "the normal transacation proportion is : 0.5\n",
      "the fraud transacation proportion is : 0.5\n",
      "total number of record in resampled data is: 984\n",
      "------------------------------------------------------------\n",
      "\n",
      "the model classification for 1 proportion\n",
      "\n",
      "length of training data\n",
      "688\n",
      "length of test data\n",
      "296\n",
      "\n",
      "the recall for this model is : 0.933734939759\n",
      "TP 155\n",
      "TN 117\n",
      "FP 13\n",
      "FN 11\n"
     ]
    },
    {
     "data": {
      "image/png": "[encoded data removed]",
      "text/plain": [
       "<matplotlib.figure.Figure at 0x7f6da25c4cc0>"
      ]
     },
     "metadata": {},
     "output_type": "display_data"
    },
    {
     "name": "stdout",
     "output_type": "stream",
     "text": [
      "\n",
      "----------Classification Report------------------------------------\n",
      "             precision    recall  f1-score   support\n",
      "\n",
      "          0       0.91      0.90      0.91       130\n",
      "          1       0.92      0.93      0.93       166\n",
      "\n",
      "avg / total       0.92      0.92      0.92       296\n",
      "\n",
      "________________________________________________________________________________________________________\n",
      "the undersample data for 2 proportion\n",
      "\n",
      "the normal transacation proportion is : 0.6666666666666666\n",
      "the fraud transacation proportion is : 0.3333333333333333\n",
      "total number of record in resampled data is: 1476\n",
      "------------------------------------------------------------\n",
      "\n",
      "the model classification for 2 proportion\n",
      "\n",
      "length of training data\n",
      "1033\n",
      "length of test data\n",
      "443\n",
      "\n",
      "the recall for this model is : 0.923076923077\n",
      "TP 120\n",
      "TN 302\n",
      "FP 11\n",
      "FN 10\n"
     ]
    },
    {
     "data": {
      "image/png": "[encoded data removed]",
      "text/plain": [
       "<matplotlib.figure.Figure at 0x7f6da24c0128>"
      ]
     },
     "metadata": {},
     "output_type": "display_data"
    },
    {
     "name": "stdout",
     "output_type": "stream",
     "text": [
      "\n",
      "----------Classification Report------------------------------------\n",
      "             precision    recall  f1-score   support\n",
      "\n",
      "          0       0.97      0.96      0.97       313\n",
      "          1       0.92      0.92      0.92       130\n",
      "\n",
      "avg / total       0.95      0.95      0.95       443\n",
      "\n",
      "________________________________________________________________________________________________________\n",
      "the undersample data for 3 proportion\n",
      "\n",
      "the normal transacation proportion is : 0.75\n",
      "the fraud transacation proportion is : 0.25\n",
      "total number of record in resampled data is: 1968\n",
      "------------------------------------------------------------\n",
      "\n",
      "the model classification for 3 proportion\n",
      "\n",
      "length of training data\n",
      "1377\n",
      "length of test data\n",
      "591\n",
      "\n",
      "the recall for this model is : 0.858974358974\n",
      "TP 134\n",
      "TN 428\n",
      "FP 7\n",
      "FN 22\n"
     ]
    },
    {
     "data": {
      "image/png": "[encoded data removed]",
      "text/plain": [
       "<matplotlib.figure.Figure at 0x7f6d98544ba8>"
      ]
     },
     "metadata": {},
     "output_type": "display_data"
    },
    {
     "name": "stdout",
     "output_type": "stream",
     "text": [
      "\n",
      "----------Classification Report------------------------------------\n",
      "             precision    recall  f1-score   support\n",
      "\n",
      "          0       0.95      0.98      0.97       435\n",
      "          1       0.95      0.86      0.90       156\n",
      "\n",
      "avg / total       0.95      0.95      0.95       591\n",
      "\n",
      "________________________________________________________________________________________________________\n"
     ]
    }
   ],
   "source": [
    "for i in range(1,4):\n",
    "    print(\"the undersample data for {} proportion\".format(i))\n",
    "    print()\n",
    "    Undersample_data = undersample(normal_indices,fraud_indices,i)\n",
    "    print(\"------------------------------------------------------------\")\n",
    "    print()\n",
    "    print(\"the model classification for {} proportion\".format(i))\n",
    "    print()\n",
    "    undersample_features_train,undersample_features_test,undersample_labels_train,undersample_labels_test=data_prepration(Undersample_data)\n",
    "    print()\n",
    "    clf= SVC()# here we are just changing classifier\n",
    "    model(clf,undersample_features_train,undersample_features_test,undersample_labels_train,undersample_labels_test)\n",
    "    print(\"________________________________________________________________________________________________________\")\n",
    "    "
   ]
  },
  {
   "cell_type": "markdown",
   "metadata": {
    "_cell_guid": "6f479f7b-48de-778a-bae3-85fafa34f5a1"
   },
   "source": [
    "1. Here recall and precision are approximately equal to Logistic Regression \n",
    "\n",
    "2. Lets try for whole data"
   ]
  },
  {
   "cell_type": "code",
   "execution_count": 16,
   "metadata": {
    "_cell_guid": "421e574f-9fc1-af06-b54d-ce2dd2d6b51d"
   },
   "outputs": [
    {
     "name": "stdout",
     "output_type": "stream",
     "text": [
      "the undersample data for 1 proportion\n",
      "\n",
      "the normal transacation proportion is : 0.5\n",
      "the fraud transacation proportion is : 0.5\n",
      "total number of record in resampled data is: 984\n",
      "------------------------------------------------------------\n",
      "\n",
      "the model classification for 1 proportion\n",
      "\n",
      "length of training data\n",
      "688\n",
      "length of test data\n",
      "296\n",
      "length of training data\n",
      "199364\n",
      "length of test data\n",
      "85443\n",
      "\n",
      "the recall for this model is : 0.941176470588\n",
      "TP 128\n",
      "TN 81207\n",
      "FP 4100\n",
      "FN 8\n"
     ]
    },
    {
     "data": {
      "image/png": "[encoded data removed]",
      "text/plain": [
       "<matplotlib.figure.Figure at 0x7f6da278dd30>"
      ]
     },
     "metadata": {},
     "output_type": "display_data"
    },
    {
     "name": "stdout",
     "output_type": "stream",
     "text": [
      "\n",
      "----------Classification Report------------------------------------\n",
      "             precision    recall  f1-score   support\n",
      "\n",
      "          0       1.00      0.95      0.98     85307\n",
      "          1       0.03      0.94      0.06       136\n",
      "\n",
      "avg / total       1.00      0.95      0.97     85443\n",
      "\n",
      "_________________________________________________________________________________________\n",
      "the undersample data for 2 proportion\n",
      "\n",
      "the normal transacation proportion is : 0.6666666666666666\n",
      "the fraud transacation proportion is : 0.3333333333333333\n",
      "total number of record in resampled data is: 1476\n",
      "------------------------------------------------------------\n",
      "\n",
      "the model classification for 2 proportion\n",
      "\n",
      "length of training data\n",
      "1033\n",
      "length of test data\n",
      "443\n",
      "length of training data\n",
      "199364\n",
      "length of test data\n",
      "85443\n",
      "\n",
      "the recall for this model is : 0.922580645161\n",
      "TP 143\n",
      "TN 82552\n",
      "FP 2736\n",
      "FN 12\n"
     ]
    },
    {
     "data": {
      "image/png": "[encoded data removed]",
      "text/plain": [
       "<matplotlib.figure.Figure at 0x7f6da2522400>"
      ]
     },
     "metadata": {},
     "output_type": "display_data"
    },
    {
     "name": "stdout",
     "output_type": "stream",
     "text": [
      "\n",
      "----------Classification Report------------------------------------\n",
      "             precision    recall  f1-score   support\n",
      "\n",
      "          0       1.00      0.97      0.98     85288\n",
      "          1       0.05      0.92      0.09       155\n",
      "\n",
      "avg / total       1.00      0.97      0.98     85443\n",
      "\n",
      "_________________________________________________________________________________________\n",
      "the undersample data for 3 proportion\n",
      "\n",
      "the normal transacation proportion is : 0.75\n",
      "the fraud transacation proportion is : 0.25\n",
      "total number of record in resampled data is: 1968\n",
      "------------------------------------------------------------\n",
      "\n",
      "the model classification for 3 proportion\n",
      "\n",
      "length of training data\n",
      "1377\n",
      "length of test data\n",
      "591\n",
      "length of training data\n",
      "199364\n",
      "length of test data\n",
      "85443\n",
      "\n",
      "the recall for this model is : 0.888888888889\n",
      "TP 136\n",
      "TN 83261\n",
      "FP 2029\n",
      "FN 17\n"
     ]
    },
    {
     "data": {
      "image/png": "[encoded data removed]",
      "text/plain": [
       "<matplotlib.figure.Figure at 0x7f6da264dbe0>"
      ]
     },
     "metadata": {},
     "output_type": "display_data"
    },
    {
     "name": "stdout",
     "output_type": "stream",
     "text": [
      "\n",
      "----------Classification Report------------------------------------\n",
      "             precision    recall  f1-score   support\n",
      "\n",
      "          0       1.00      0.98      0.99     85290\n",
      "          1       0.06      0.89      0.12       153\n",
      "\n",
      "avg / total       1.00      0.98      0.99     85443\n",
      "\n",
      "_________________________________________________________________________________________\n"
     ]
    }
   ],
   "source": [
    "#let us train this model using undersample data and test for the whole data test set \n",
    "for i in range(1,4):\n",
    "    print(\"the undersample data for {} proportion\".format(i))\n",
    "    print()\n",
    "    Undersample_data = undersample(normal_indices,fraud_indices,i)\n",
    "    print(\"------------------------------------------------------------\")\n",
    "    print()\n",
    "    print(\"the model classification for {} proportion\".format(i))\n",
    "    print()\n",
    "    undersample_features_train,undersample_features_test,undersample_labels_train,undersample_labels_test=data_prepration(Undersample_data)\n",
    "    data_features_train,data_features_test,data_labels_train,data_labels_test=data_prepration(data) \n",
    "    #the partion for whole data\n",
    "    print()\n",
    "    clf=SVC()\n",
    "    model(clf,undersample_features_train,data_features_test,undersample_labels_train,data_labels_test)\n",
    "    # here training for the undersample data but tatsing for whole data\n",
    "    print(\"_________________________________________________________________________________________\")"
   ]
  },
  {
   "cell_type": "markdown",
   "metadata": {
    "_cell_guid": "35809c9d-f0ed-bffb-5a5d-4276b8baf8e8"
   },
   "source": [
    "1. A better recall but precision is not improving much \n",
    "\n",
    "2 .so to improve precision we must have to tune the  hyper parameter of these models\n",
    "\n",
    "3 That I will do in next version \n",
    "\n",
    "4 For now lets try with my favorite Random Forest classifier "
   ]
  },
  {
   "cell_type": "code",
   "execution_count": 17,
   "metadata": {
    "_cell_guid": "3a5628e6-25ce-f859-129e-08c2af9f1c91"
   },
   "outputs": [
    {
     "name": "stdout",
     "output_type": "stream",
     "text": [
      "the undersample data for 1 proportion\n",
      "\n",
      "the normal transacation proportion is : 0.5\n",
      "the fraud transacation proportion is : 0.5\n",
      "total number of record in resampled data is: 984\n",
      "------------------------------------------------------------\n",
      "\n",
      "the model classification for 1 proportion\n",
      "\n",
      "length of training data\n",
      "688\n",
      "length of test data\n",
      "296\n",
      "\n",
      "the recall for this model is : 0.858064516129\n",
      "TP 133\n",
      "TN 139\n",
      "FP 2\n",
      "FN 22\n"
     ]
    },
    {
     "data": {
      "image/png": "[encoded data removed]",
      "text/plain": [
       "<matplotlib.figure.Figure at 0x7f6da27286d8>"
      ]
     },
     "metadata": {},
     "output_type": "display_data"
    },
    {
     "name": "stdout",
     "output_type": "stream",
     "text": [
      "\n",
      "----------Classification Report------------------------------------\n",
      "             precision    recall  f1-score   support\n",
      "\n",
      "          0       0.86      0.99      0.92       141\n",
      "          1       0.99      0.86      0.92       155\n",
      "\n",
      "avg / total       0.93      0.92      0.92       296\n",
      "\n",
      "________________________________________________________________________________________________________\n",
      "the undersample data for 2 proportion\n",
      "\n",
      "the normal transacation proportion is : 0.6666666666666666\n",
      "the fraud transacation proportion is : 0.3333333333333333\n",
      "total number of record in resampled data is: 1476\n",
      "------------------------------------------------------------\n",
      "\n",
      "the model classification for 2 proportion\n",
      "\n",
      "length of training data\n",
      "1033\n",
      "length of test data\n",
      "443\n",
      "\n",
      "the recall for this model is : 0.890410958904\n",
      "TP 130\n",
      "TN 294\n",
      "FP 3\n",
      "FN 16\n"
     ]
    },
    {
     "data": {
      "image/png": "[encoded data removed]",
      "text/plain": [
       "<matplotlib.figure.Figure at 0x7f6da27288d0>"
      ]
     },
     "metadata": {},
     "output_type": "display_data"
    },
    {
     "name": "stdout",
     "output_type": "stream",
     "text": [
      "\n",
      "----------Classification Report------------------------------------\n",
      "             precision    recall  f1-score   support\n",
      "\n",
      "          0       0.95      0.99      0.97       297\n",
      "          1       0.98      0.89      0.93       146\n",
      "\n",
      "avg / total       0.96      0.96      0.96       443\n",
      "\n",
      "________________________________________________________________________________________________________\n",
      "the undersample data for 3 proportion\n",
      "\n",
      "the normal transacation proportion is : 0.75\n",
      "the fraud transacation proportion is : 0.25\n",
      "total number of record in resampled data is: 1968\n",
      "------------------------------------------------------------\n",
      "\n",
      "the model classification for 3 proportion\n",
      "\n",
      "length of training data\n",
      "1377\n",
      "length of test data\n",
      "591\n",
      "\n",
      "the recall for this model is : 0.863636363636\n",
      "TP 133\n",
      "TN 436\n",
      "FP 1\n",
      "FN 21\n"
     ]
    },
    {
     "data": {
      "image/png": "[encoded data removed]",
      "text/plain": [
       "<matplotlib.figure.Figure at 0x7f6da26f1c18>"
      ]
     },
     "metadata": {},
     "output_type": "display_data"
    },
    {
     "name": "stdout",
     "output_type": "stream",
     "text": [
      "\n",
      "----------Classification Report------------------------------------\n",
      "             precision    recall  f1-score   support\n",
      "\n",
      "          0       0.95      1.00      0.98       437\n",
      "          1       0.99      0.86      0.92       154\n",
      "\n",
      "avg / total       0.96      0.96      0.96       591\n",
      "\n",
      "________________________________________________________________________________________________________\n"
     ]
    }
   ],
   "source": [
    "# Random Forest Classifier with undersample data only\n",
    "for i in range(1,4):\n",
    "    print(\"the undersample data for {} proportion\".format(i))\n",
    "    print()\n",
    "    Undersample_data = undersample(normal_indices,fraud_indices,i)\n",
    "    print(\"------------------------------------------------------------\")\n",
    "    print()\n",
    "    print(\"the model classification for {} proportion\".format(i))\n",
    "    print()\n",
    "    undersample_features_train,undersample_features_test,undersample_labels_train,undersample_labels_test=data_prepration(Undersample_data)\n",
    "    print()\n",
    "    clf= RandomForestClassifier(n_estimators=100)# here we are just changing classifier\n",
    "    model(clf,undersample_features_train,undersample_features_test,undersample_labels_train,undersample_labels_test)\n",
    "    print(\"________________________________________________________________________________________________________\")\n",
    "    "
   ]
  },
  {
   "cell_type": "code",
   "execution_count": 18,
   "metadata": {
    "_cell_guid": "15036191-41bd-e56f-027b-de4f22814380"
   },
   "outputs": [
    {
     "name": "stdout",
     "output_type": "stream",
     "text": [
      "the undersample data for 1 proportion\n",
      "\n",
      "the normal transacation proportion is : 0.5\n",
      "the fraud transacation proportion is : 0.5\n",
      "total number of record in resampled data is: 984\n",
      "------------------------------------------------------------\n",
      "\n",
      "the model classification for 1 proportion\n",
      "\n",
      "length of training data\n",
      "688\n",
      "length of test data\n",
      "296\n",
      "length of training data\n",
      "199364\n",
      "length of test data\n",
      "85443\n",
      "\n",
      "the recall for this model is : 0.971631205674\n",
      "TP 137\n",
      "TN 83064\n",
      "FP 2238\n",
      "FN 4\n"
     ]
    },
    {
     "data": {
      "image/png": "[encoded data removed]",
      "text/plain": [
       "<matplotlib.figure.Figure at 0x7f6da2701a20>"
      ]
     },
     "metadata": {},
     "output_type": "display_data"
    },
    {
     "name": "stdout",
     "output_type": "stream",
     "text": [
      "\n",
      "----------Classification Report------------------------------------\n",
      "             precision    recall  f1-score   support\n",
      "\n",
      "          0       1.00      0.97      0.99     85302\n",
      "          1       0.06      0.97      0.11       141\n",
      "\n",
      "avg / total       1.00      0.97      0.99     85443\n",
      "\n",
      "_________________________________________________________________________________________\n",
      "the undersample data for 2 proportion\n",
      "\n",
      "the normal transacation proportion is : 0.6666666666666666\n",
      "the fraud transacation proportion is : 0.3333333333333333\n",
      "total number of record in resampled data is: 1476\n",
      "------------------------------------------------------------\n",
      "\n",
      "the model classification for 2 proportion\n",
      "\n",
      "length of training data\n",
      "1033\n",
      "length of test data\n",
      "443\n",
      "length of training data\n",
      "199364\n",
      "length of test data\n",
      "85443\n",
      "\n",
      "the recall for this model is : 0.967320261438\n",
      "TP 148\n",
      "TN 84448\n",
      "FP 842\n",
      "FN 5\n"
     ]
    },
    {
     "data": {
      "image/png": "[encoded data removed]",
      "text/plain": [
       "<matplotlib.figure.Figure at 0x7f6da28ae1d0>"
      ]
     },
     "metadata": {},
     "output_type": "display_data"
    },
    {
     "name": "stdout",
     "output_type": "stream",
     "text": [
      "\n",
      "----------Classification Report------------------------------------\n",
      "             precision    recall  f1-score   support\n",
      "\n",
      "          0       1.00      0.99      1.00     85290\n",
      "          1       0.15      0.97      0.26       153\n",
      "\n",
      "avg / total       1.00      0.99      0.99     85443\n",
      "\n",
      "_________________________________________________________________________________________\n",
      "the undersample data for 3 proportion\n",
      "\n",
      "the normal transacation proportion is : 0.75\n",
      "the fraud transacation proportion is : 0.25\n",
      "total number of record in resampled data is: 1968\n",
      "------------------------------------------------------------\n",
      "\n",
      "the model classification for 3 proportion\n",
      "\n",
      "length of training data\n",
      "1377\n",
      "length of test data\n",
      "591\n",
      "length of training data\n",
      "199364\n",
      "length of test data\n",
      "85443\n",
      "\n",
      "the recall for this model is : 0.967948717949\n",
      "TP 151\n",
      "TN 84964\n",
      "FP 323\n",
      "FN 5\n"
     ]
    },
    {
     "data": {
      "image/png": "[encoded data removed]",
      "text/plain": [
       "<matplotlib.figure.Figure at 0x7f6da2487898>"
      ]
     },
     "metadata": {},
     "output_type": "display_data"
    },
    {
     "name": "stdout",
     "output_type": "stream",
     "text": [
      "\n",
      "----------Classification Report------------------------------------\n",
      "             precision    recall  f1-score   support\n",
      "\n",
      "          0       1.00      1.00      1.00     85287\n",
      "          1       0.32      0.97      0.48       156\n",
      "\n",
      "avg / total       1.00      1.00      1.00     85443\n",
      "\n",
      "_________________________________________________________________________________________\n"
     ]
    }
   ],
   "source": [
    "#let us train this model using undersample data and test for the whole data test set \n",
    "for i in range(1,4):\n",
    "    print(\"the undersample data for {} proportion\".format(i))\n",
    "    print()\n",
    "    Undersample_data = undersample(normal_indices,fraud_indices,i)\n",
    "    print(\"------------------------------------------------------------\")\n",
    "    print()\n",
    "    print(\"the model classification for {} proportion\".format(i))\n",
    "    print()\n",
    "    undersample_features_train,undersample_features_test,undersample_labels_train,undersample_labels_test=data_prepration(Undersample_data)\n",
    "    data_features_train,data_features_test,data_labels_train,data_labels_test=data_prepration(data) \n",
    "    #the partion for whole data\n",
    "    print()\n",
    "    clf=RandomForestClassifier(n_estimators=100)\n",
    "    model(clf,undersample_features_train,data_features_test,undersample_labels_train,data_labels_test)\n",
    "    # here training for the undersample data but tatsing for whole data\n",
    "    print(\"_________________________________________________________________________________________\")"
   ]
  },
  {
   "cell_type": "markdown",
   "metadata": {
    "_cell_guid": "281c3b33-2a4f-fa5b-b683-bcc9b8620a4b"
   },
   "source": [
    "1. for the third proportion the precision is 0.33 which is better than others\n",
    "\n",
    "2. Lets try to get only import features using  Random Forest Classifier \n",
    "\n",
    "3. After it i will do analysis only for one portion that is 0.5 %"
   ]
  },
  {
   "cell_type": "code",
   "execution_count": 19,
   "metadata": {
    "_cell_guid": "4d65aa61-7029-01cc-f1ff-90b919e86375"
   },
   "outputs": [
    {
     "name": "stdout",
     "output_type": "stream",
     "text": [
      "V14                  0.206364\n",
      "V10                  0.134424\n",
      "V11                  0.098375\n",
      "V12                  0.097194\n",
      "V17                  0.088706\n",
      "V4                   0.075658\n",
      "V3                   0.071006\n",
      "V16                  0.034599\n",
      "V2                   0.020407\n",
      "V18                  0.019018\n",
      "V7                   0.017165\n",
      "V21                  0.014312\n",
      "V27                  0.011712\n",
      "V19                  0.011044\n",
      "V8                   0.010244\n",
      "V1                   0.008564\n",
      "Normalized Amount    0.007908\n",
      "V9                   0.007183\n",
      "V20                  0.007094\n",
      "V15                  0.006852\n",
      "V26                  0.006653\n",
      "V5                   0.006597\n",
      "V22                  0.006507\n",
      "V13                  0.005839\n",
      "V24                  0.005519\n",
      "V28                  0.005390\n",
      "V6                   0.005303\n",
      "V25                  0.005210\n",
      "V23                  0.005154\n",
      "dtype: float64\n"
     ]
    }
   ],
   "source": [
    "featimp = pd.Series(clf.feature_importances_,index=data_features_train.columns).sort_values(ascending=False)\n",
    "print(featimp) # this is the property of Random Forest classifier that it provide us the importance \n",
    "# of the features use"
   ]
  },
  {
   "cell_type": "markdown",
   "metadata": {
    "_cell_guid": "e2bd6d67-b2d6-c115-0fa4-dd79467b3274"
   },
   "source": [
    "1.  we can see this is showing the importance of feature for the making decision \n",
    "\n",
    "2. V14 is having a very good importance compare to other features\n",
    "\n",
    "3. Lets use only top 5 (V14,V10,V12,V17,V4) feature to predict using Random forest classifier only for 0.5 % "
   ]
  },
  {
   "cell_type": "code",
   "execution_count": 20,
   "metadata": {
    "_cell_guid": "609033b6-4bb4-e70c-98cc-308e66146c9b"
   },
   "outputs": [
    {
     "data": {
      "text/html": [
       "<div>\n",
       "<table border=\"1\" class=\"dataframe\">\n",
       "  <thead>\n",
       "    <tr style=\"text-align: right;\">\n",
       "      <th></th>\n",
       "      <th>V14</th>\n",
       "      <th>V10</th>\n",
       "      <th>V12</th>\n",
       "      <th>V17</th>\n",
       "      <th>V4</th>\n",
       "      <th>Class</th>\n",
       "    </tr>\n",
       "  </thead>\n",
       "  <tbody>\n",
       "    <tr>\n",
       "      <th>0</th>\n",
       "      <td>-0.311169</td>\n",
       "      <td>0.090794</td>\n",
       "      <td>-0.617801</td>\n",
       "      <td>0.207971</td>\n",
       "      <td>1.378155</td>\n",
       "      <td>0</td>\n",
       "    </tr>\n",
       "    <tr>\n",
       "      <th>1</th>\n",
       "      <td>-0.143772</td>\n",
       "      <td>-0.166974</td>\n",
       "      <td>1.065235</td>\n",
       "      <td>-0.114805</td>\n",
       "      <td>0.448154</td>\n",
       "      <td>0</td>\n",
       "    </tr>\n",
       "    <tr>\n",
       "      <th>2</th>\n",
       "      <td>-0.165946</td>\n",
       "      <td>0.207643</td>\n",
       "      <td>0.066084</td>\n",
       "      <td>1.109969</td>\n",
       "      <td>0.379780</td>\n",
       "      <td>0</td>\n",
       "    </tr>\n",
       "    <tr>\n",
       "      <th>3</th>\n",
       "      <td>-0.287924</td>\n",
       "      <td>-0.054952</td>\n",
       "      <td>0.178228</td>\n",
       "      <td>-0.684093</td>\n",
       "      <td>-0.863291</td>\n",
       "      <td>0</td>\n",
       "    </tr>\n",
       "    <tr>\n",
       "      <th>4</th>\n",
       "      <td>-1.119670</td>\n",
       "      <td>0.753074</td>\n",
       "      <td>0.538196</td>\n",
       "      <td>-0.237033</td>\n",
       "      <td>0.403034</td>\n",
       "      <td>0</td>\n",
       "    </tr>\n",
       "  </tbody>\n",
       "</table>\n",
       "</div>"
      ],
      "text/plain": [
       "        V14       V10       V12       V17        V4  Class\n",
       "0 -0.311169  0.090794 -0.617801  0.207971  1.378155      0\n",
       "1 -0.143772 -0.166974  1.065235 -0.114805  0.448154      0\n",
       "2 -0.165946  0.207643  0.066084  1.109969  0.379780      0\n",
       "3 -0.287924 -0.054952  0.178228 -0.684093 -0.863291      0\n",
       "4 -1.119670  0.753074  0.538196 -0.237033  0.403034      0"
      ]
     },
     "execution_count": 20,
     "metadata": {},
     "output_type": "execute_result"
    }
   ],
   "source": [
    "# make a new data with only class and V14\n",
    "data1=data[[\"V14\",\"V10\",\"V12\",\"V17\",\"V4\",\"Class\"]]\n",
    "data1.head()"
   ]
  },
  {
   "cell_type": "code",
   "execution_count": 21,
   "metadata": {
    "_cell_guid": "73f9712b-81d4-beed-611e-519d885e6519"
   },
   "outputs": [
    {
     "name": "stdout",
     "output_type": "stream",
     "text": [
      "the normal transacation proportion is : 0.5\n",
      "the fraud transacation proportion is : 0.5\n",
      "total number of record in resampled data is: 984\n",
      "length of training data\n",
      "688\n",
      "length of test data\n",
      "296\n"
     ]
    }
   ],
   "source": [
    "Undersample_data1 = undersample(normal_indices,fraud_indices,1)\n",
    "#only for 50 % proportion it means normal transaction and fraud transaction are equal so passing \n",
    "Undersample_data1_features_train,Undersample_data1_features_test,Undersample_data1_labels_train,Undersample_data1_labels_test = data_prepration(Undersample_data1)"
   ]
  },
  {
   "cell_type": "code",
   "execution_count": 22,
   "metadata": {
    "_cell_guid": "c4be1eb4-38d4-4aad-7ed6-ecc0a6965c8a"
   },
   "outputs": [
    {
     "name": "stdout",
     "output_type": "stream",
     "text": [
      "the recall for this model is : 0.93006993007\n",
      "TP 133\n",
      "TN 149\n",
      "FP 4\n",
      "FN 10\n"
     ]
    },
    {
     "data": {
      "image/png": "[encoded data removed]",
      "text/plain": [
       "<matplotlib.figure.Figure at 0x7f6da25633c8>"
      ]
     },
     "metadata": {},
     "output_type": "display_data"
    },
    {
     "name": "stdout",
     "output_type": "stream",
     "text": [
      "\n",
      "----------Classification Report------------------------------------\n",
      "             precision    recall  f1-score   support\n",
      "\n",
      "          0       0.94      0.97      0.96       153\n",
      "          1       0.97      0.93      0.95       143\n",
      "\n",
      "avg / total       0.95      0.95      0.95       296\n",
      "\n"
     ]
    }
   ],
   "source": [
    "clf= RandomForestClassifier(n_estimators=100)\n",
    "model(clf,Undersample_data1_features_train,Undersample_data1_features_test,Undersample_data1_labels_train,Undersample_data1_labels_test)"
   ]
  },
  {
   "cell_type": "markdown",
   "metadata": {
    "_cell_guid": "651a09d1-bc75-e3bf-7c7f-743b832bbd05"
   },
   "source": [
    "###Over Sampling"
   ]
  },
  {
   "cell_type": "markdown",
   "metadata": {
    "_cell_guid": "d81c2e60-996a-cfe1-29eb-99f389184875"
   },
   "source": [
    " 1. In my previous version I got the 100 recall and 98 % precision by using Random forest with the over sampled data but in real it was due to over fitting because i was taking whole fraud data and was training for that and I was doing the testing on the same data.\n",
    "\n",
    " 2. Please find link of previous version for more understanding [Link](https://www.kaggle.com/gargmanish/d/dalpozz/creditcardfraud/fraud-detection-100-recall-98-precision/run/1033018)\n",
    "\n",
    "3. Thanks to Mr. Dominik Stuerzer for help "
   ]
  },
  {
   "cell_type": "code",
   "execution_count": 23,
   "metadata": {
    "_cell_guid": "790cdeb8-dcb6-42f2-7d1c-88745940a019"
   },
   "outputs": [
    {
     "name": "stdout",
     "output_type": "stream",
     "text": [
      "length of training data 284807\n",
      "length of normal data 284315\n",
      "length of fraud  data 492\n"
     ]
    }
   ],
   "source": [
    "# now we will divied our data sets into two part and we will train and test and will oversample the train data and predict for test data\n",
    "# lets import data again\n",
    "data = pd.read_csv(\"../input/creditcard.csv\",header = 0)\n",
    "print(\"length of training data\",len(data))\n",
    "print(\"length of normal data\",len(data[data[\"Class\"]==0]))\n",
    "print(\"length of fraud  data\",len(data[data[\"Class\"]==1]))"
   ]
  },
  {
   "cell_type": "code",
   "execution_count": 24,
   "metadata": {
    "_cell_guid": "18eb81f6-3851-3e3f-bb1b-b50b0d3b34f3"
   },
   "outputs": [
    {
     "name": "stdout",
     "output_type": "stream",
     "text": [
      "length of training data\n",
      "199364\n",
      "length of test data\n",
      "85443\n"
     ]
    },
    {
     "data": {
      "text/plain": [
       "Index(['Class'], dtype='object')"
      ]
     },
     "execution_count": 24,
     "metadata": {},
     "output_type": "execute_result"
    }
   ],
   "source": [
    "data_train_X,data_test_X,data_train_y,data_test_y=data_prepration(data)\n",
    "data_train_X.columns\n",
    "data_train_y.columns"
   ]
  },
  {
   "cell_type": "code",
   "execution_count": 25,
   "metadata": {
    "_cell_guid": "1507f0e1-ef07-8565-da7a-65e22b5b87ee"
   },
   "outputs": [
    {
     "name": "stdout",
     "output_type": "stream",
     "text": [
      "length of training data 199364\n",
      "length of normal data 199009\n",
      "length of fraud data 355\n"
     ]
    }
   ],
   "source": [
    "# ok Now we have a traing data\n",
    "data_train_X[\"Class\"]= data_train_y[\"Class\"] # combining class with original data\n",
    "data_train = data_train_X.copy() # for naming conevntion\n",
    "print(\"length of training data\",len(data_train))\n",
    "# Now make data set of normal transction from train data\n",
    "normal_data = data_train[data_train[\"Class\"]==0]\n",
    "print(\"length of normal data\",len(normal_data))\n",
    "fraud_data = data_train[data_train[\"Class\"]==1]\n",
    "print(\"length of fraud data\",len(fraud_data))"
   ]
  },
  {
   "cell_type": "code",
   "execution_count": 26,
   "metadata": {
    "_cell_guid": "29c2774c-9633-c9a1-1d71-c86eb92506f2"
   },
   "outputs": [
    {
     "name": "stdout",
     "output_type": "stream",
     "text": [
      "length of oversampled data is  328584\n",
      "Number of normal transcation in oversampled data 199009\n",
      "No.of fraud transcation 129575\n",
      "Proportion of Normal data in oversampled data is  0.6056563922771651\n",
      "Proportion of fraud data in oversampled data is  0.39434360772283494\n"
     ]
    }
   ],
   "source": [
    "# Now start oversamoling of training data \n",
    "# means we will duplicate many times the value of fraud data\n",
    "for i in range (365): # the number is choosen by myself on basis of nnumber of fraud transaction\n",
    "    normal_data= normal_data.append(fraud_data)\n",
    "os_data = normal_data.copy() \n",
    "print(\"length of oversampled data is \",len(os_data))\n",
    "print(\"Number of normal transcation in oversampled data\",len(os_data[os_data[\"Class\"]==0]))\n",
    "print(\"No.of fraud transcation\",len(os_data[os_data[\"Class\"]==1]))\n",
    "print(\"Proportion of Normal data in oversampled data is \",len(os_data[os_data[\"Class\"]==0])/len(os_data))\n",
    "print(\"Proportion of fraud data in oversampled data is \",len(os_data[os_data[\"Class\"]==1])/len(os_data))"
   ]
  },
  {
   "cell_type": "markdown",
   "metadata": {
    "_cell_guid": "7db27f2c-d6fb-d903-932f-2db782c8e43f"
   },
   "source": [
    " 1. The proportion now becomes the 60 % and 40 % that is good now"
   ]
  },
  {
   "cell_type": "code",
   "execution_count": 27,
   "metadata": {
    "_cell_guid": "2d1ab58d-f74f-93da-a441-11f9e130b600"
   },
   "outputs": [
    {
     "data": {
      "text/html": [
       "<div>\n",
       "<table border=\"1\" class=\"dataframe\">\n",
       "  <thead>\n",
       "    <tr style=\"text-align: right;\">\n",
       "      <th></th>\n",
       "      <th>V1</th>\n",
       "      <th>V2</th>\n",
       "      <th>V3</th>\n",
       "      <th>V4</th>\n",
       "      <th>V5</th>\n",
       "      <th>V6</th>\n",
       "      <th>V7</th>\n",
       "      <th>V8</th>\n",
       "      <th>V9</th>\n",
       "      <th>V10</th>\n",
       "      <th>...</th>\n",
       "      <th>V21</th>\n",
       "      <th>V22</th>\n",
       "      <th>V23</th>\n",
       "      <th>V24</th>\n",
       "      <th>V25</th>\n",
       "      <th>V26</th>\n",
       "      <th>V27</th>\n",
       "      <th>V28</th>\n",
       "      <th>Class</th>\n",
       "      <th>Normalized Amount</th>\n",
       "    </tr>\n",
       "  </thead>\n",
       "  <tbody>\n",
       "    <tr>\n",
       "      <th>82656</th>\n",
       "      <td>1.356574</td>\n",
       "      <td>-1.535896</td>\n",
       "      <td>1.014585</td>\n",
       "      <td>-0.980949</td>\n",
       "      <td>-1.840651</td>\n",
       "      <td>0.495094</td>\n",
       "      <td>-1.535552</td>\n",
       "      <td>0.235415</td>\n",
       "      <td>-0.847601</td>\n",
       "      <td>1.180545</td>\n",
       "      <td>...</td>\n",
       "      <td>-0.578444</td>\n",
       "      <td>-0.948479</td>\n",
       "      <td>0.038288</td>\n",
       "      <td>-0.051798</td>\n",
       "      <td>0.350549</td>\n",
       "      <td>-0.338308</td>\n",
       "      <td>0.073518</td>\n",
       "      <td>0.017247</td>\n",
       "      <td>0</td>\n",
       "      <td>-0.240655</td>\n",
       "    </tr>\n",
       "    <tr>\n",
       "      <th>202761</th>\n",
       "      <td>0.078384</td>\n",
       "      <td>0.693709</td>\n",
       "      <td>-0.282273</td>\n",
       "      <td>-1.007720</td>\n",
       "      <td>1.058216</td>\n",
       "      <td>-0.035670</td>\n",
       "      <td>0.838345</td>\n",
       "      <td>0.070423</td>\n",
       "      <td>-0.094317</td>\n",
       "      <td>-0.221217</td>\n",
       "      <td>...</td>\n",
       "      <td>-0.303203</td>\n",
       "      <td>-0.775385</td>\n",
       "      <td>-0.086534</td>\n",
       "      <td>-1.414806</td>\n",
       "      <td>-0.360046</td>\n",
       "      <td>0.208073</td>\n",
       "      <td>0.234031</td>\n",
       "      <td>0.072388</td>\n",
       "      <td>0</td>\n",
       "      <td>-0.371265</td>\n",
       "    </tr>\n",
       "    <tr>\n",
       "      <th>85985</th>\n",
       "      <td>-3.549282</td>\n",
       "      <td>-3.403880</td>\n",
       "      <td>2.389801</td>\n",
       "      <td>1.080311</td>\n",
       "      <td>1.683676</td>\n",
       "      <td>-1.100104</td>\n",
       "      <td>-0.699287</td>\n",
       "      <td>0.171644</td>\n",
       "      <td>0.935805</td>\n",
       "      <td>-0.256182</td>\n",
       "      <td>...</td>\n",
       "      <td>-0.284722</td>\n",
       "      <td>0.428109</td>\n",
       "      <td>2.844650</td>\n",
       "      <td>0.006528</td>\n",
       "      <td>0.466552</td>\n",
       "      <td>0.421108</td>\n",
       "      <td>0.260494</td>\n",
       "      <td>-0.472237</td>\n",
       "      <td>0</td>\n",
       "      <td>-0.383217</td>\n",
       "    </tr>\n",
       "    <tr>\n",
       "      <th>215180</th>\n",
       "      <td>2.084961</td>\n",
       "      <td>0.009129</td>\n",
       "      <td>-3.842413</td>\n",
       "      <td>-0.551511</td>\n",
       "      <td>3.139773</td>\n",
       "      <td>2.743495</td>\n",
       "      <td>0.130580</td>\n",
       "      <td>0.552759</td>\n",
       "      <td>-0.030368</td>\n",
       "      <td>-0.295843</td>\n",
       "      <td>...</td>\n",
       "      <td>0.034740</td>\n",
       "      <td>0.187883</td>\n",
       "      <td>-0.014668</td>\n",
       "      <td>0.682901</td>\n",
       "      <td>0.410981</td>\n",
       "      <td>0.734260</td>\n",
       "      <td>-0.081080</td>\n",
       "      <td>-0.064606</td>\n",
       "      <td>0</td>\n",
       "      <td>-0.374769</td>\n",
       "    </tr>\n",
       "    <tr>\n",
       "      <th>75855</th>\n",
       "      <td>1.193268</td>\n",
       "      <td>-0.071682</td>\n",
       "      <td>0.611175</td>\n",
       "      <td>-0.232721</td>\n",
       "      <td>-0.478724</td>\n",
       "      <td>-0.216029</td>\n",
       "      <td>-0.329775</td>\n",
       "      <td>0.071921</td>\n",
       "      <td>0.009225</td>\n",
       "      <td>-0.112748</td>\n",
       "      <td>...</td>\n",
       "      <td>-0.043944</td>\n",
       "      <td>-0.080370</td>\n",
       "      <td>0.101692</td>\n",
       "      <td>0.090155</td>\n",
       "      <td>0.041104</td>\n",
       "      <td>0.914386</td>\n",
       "      <td>-0.053130</td>\n",
       "      <td>-0.002135</td>\n",
       "      <td>0</td>\n",
       "      <td>-0.388278</td>\n",
       "    </tr>\n",
       "  </tbody>\n",
       "</table>\n",
       "<p>5 rows × 30 columns</p>\n",
       "</div>"
      ],
      "text/plain": [
       "              V1        V2        V3        V4        V5        V6        V7  \\\n",
       "82656   1.356574 -1.535896  1.014585 -0.980949 -1.840651  0.495094 -1.535552   \n",
       "202761  0.078384  0.693709 -0.282273 -1.007720  1.058216 -0.035670  0.838345   \n",
       "85985  -3.549282 -3.403880  2.389801  1.080311  1.683676 -1.100104 -0.699287   \n",
       "215180  2.084961  0.009129 -3.842413 -0.551511  3.139773  2.743495  0.130580   \n",
       "75855   1.193268 -0.071682  0.611175 -0.232721 -0.478724 -0.216029 -0.329775   \n",
       "\n",
       "              V8        V9       V10        ...               V21       V22  \\\n",
       "82656   0.235415 -0.847601  1.180545        ...         -0.578444 -0.948479   \n",
       "202761  0.070423 -0.094317 -0.221217        ...         -0.303203 -0.775385   \n",
       "85985   0.171644  0.935805 -0.256182        ...         -0.284722  0.428109   \n",
       "215180  0.552759 -0.030368 -0.295843        ...          0.034740  0.187883   \n",
       "75855   0.071921  0.009225 -0.112748        ...         -0.043944 -0.080370   \n",
       "\n",
       "             V23       V24       V25       V26       V27       V28  Class  \\\n",
       "82656   0.038288 -0.051798  0.350549 -0.338308  0.073518  0.017247      0   \n",
       "202761 -0.086534 -1.414806 -0.360046  0.208073  0.234031  0.072388      0   \n",
       "85985   2.844650  0.006528  0.466552  0.421108  0.260494 -0.472237      0   \n",
       "215180 -0.014668  0.682901  0.410981  0.734260 -0.081080 -0.064606      0   \n",
       "75855   0.101692  0.090155  0.041104  0.914386 -0.053130 -0.002135      0   \n",
       "\n",
       "        Normalized Amount  \n",
       "82656           -0.240655  \n",
       "202761          -0.371265  \n",
       "85985           -0.383217  \n",
       "215180          -0.374769  \n",
       "75855           -0.388278  \n",
       "\n",
       "[5 rows x 30 columns]"
      ]
     },
     "execution_count": 27,
     "metadata": {},
     "output_type": "execute_result"
    }
   ],
   "source": [
    "# before applying any model standerdize our data amount \n",
    "os_data[\"Normalized Amount\"] = StandardScaler().fit_transform(os_data['Amount'].reshape(-1, 1))\n",
    "os_data.drop([\"Time\",\"Amount\"],axis=1,inplace=True)\n",
    "os_data.head()\n"
   ]
  },
  {
   "cell_type": "code",
   "execution_count": 28,
   "metadata": {
    "_cell_guid": "9ba7423e-7d1f-b1cc-81f9-a5c18e35fcfe"
   },
   "outputs": [
    {
     "name": "stdout",
     "output_type": "stream",
     "text": [
      "length of training data\n",
      "230008\n",
      "length of test data\n",
      "98576\n",
      "the recall for this model is : 1.0\n",
      "TP 38975\n",
      "TN 59596\n",
      "FP 5\n",
      "FN 0\n"
     ]
    },
    {
     "data": {
      "image/png": "[encoded data removed]",
      "text/plain": [
       "<matplotlib.figure.Figure at 0x7f6da28aeba8>"
      ]
     },
     "metadata": {},
     "output_type": "display_data"
    },
    {
     "name": "stdout",
     "output_type": "stream",
     "text": [
      "\n",
      "----------Classification Report------------------------------------\n",
      "             precision    recall  f1-score   support\n",
      "\n",
      "          0       1.00      1.00      1.00     59601\n",
      "          1       1.00      1.00      1.00     38975\n",
      "\n",
      "avg / total       1.00      1.00      1.00     98576\n",
      "\n"
     ]
    }
   ],
   "source": [
    "# Now use this oversampled data for trainig the model and predict value for the test data that we created before\n",
    "# now let us try within the the oversampled data itself\n",
    "# for that we need to split our oversampled data into train and test\n",
    "# so call our function data Prepration with oversampled data\n",
    "os_train_X,os_test_X,os_train_y,os_test_y=data_prepration(os_data)\n",
    "clf= RandomForestClassifier(n_estimators=100)\n",
    "model(clf,os_train_X,os_test_X,os_train_y,os_test_y)"
   ]
  },
  {
   "cell_type": "markdown",
   "metadata": {
    "_cell_guid": "5d82cb81-3be2-0c73-74e6-0ee28311398f"
   },
   "source": [
    "**Observations**\n",
    "\n",
    " 1. As it have too many sample of  same fraud data so may be the all which are present in train data are present in test data also so we can say it is over fitting \n",
    " 2. So lets try with test data that one which we created in starting of oversampling segment no fraud transaction from that data have been repeated here\n",
    " 3. Lets try\n",
    "\n",
    " "
   ]
  },
  {
   "cell_type": "code",
   "execution_count": 29,
   "metadata": {
    "_cell_guid": "afbe419c-4309-51d9-e860-6730afbdae95"
   },
   "outputs": [
    {
     "data": {
      "text/html": [
       "<div>\n",
       "<table border=\"1\" class=\"dataframe\">\n",
       "  <thead>\n",
       "    <tr style=\"text-align: right;\">\n",
       "      <th></th>\n",
       "      <th>V1</th>\n",
       "      <th>V2</th>\n",
       "      <th>V3</th>\n",
       "      <th>V4</th>\n",
       "      <th>V5</th>\n",
       "      <th>V6</th>\n",
       "      <th>V7</th>\n",
       "      <th>V8</th>\n",
       "      <th>V9</th>\n",
       "      <th>V10</th>\n",
       "      <th>...</th>\n",
       "      <th>V20</th>\n",
       "      <th>V21</th>\n",
       "      <th>V22</th>\n",
       "      <th>V23</th>\n",
       "      <th>V24</th>\n",
       "      <th>V25</th>\n",
       "      <th>V26</th>\n",
       "      <th>V27</th>\n",
       "      <th>V28</th>\n",
       "      <th>Normalized Amount</th>\n",
       "    </tr>\n",
       "  </thead>\n",
       "  <tbody>\n",
       "    <tr>\n",
       "      <th>11514</th>\n",
       "      <td>1.451038</td>\n",
       "      <td>-0.603389</td>\n",
       "      <td>0.007125</td>\n",
       "      <td>-0.616909</td>\n",
       "      <td>-0.260790</td>\n",
       "      <td>0.474328</td>\n",
       "      <td>-0.826944</td>\n",
       "      <td>0.042607</td>\n",
       "      <td>1.101926</td>\n",
       "      <td>0.110945</td>\n",
       "      <td>...</td>\n",
       "      <td>-0.054708</td>\n",
       "      <td>-0.249080</td>\n",
       "      <td>-0.389480</td>\n",
       "      <td>-0.151185</td>\n",
       "      <td>-1.380077</td>\n",
       "      <td>0.610950</td>\n",
       "      <td>-0.163068</td>\n",
       "      <td>-0.005513</td>\n",
       "      <td>-0.013058</td>\n",
       "      <td>-0.320476</td>\n",
       "    </tr>\n",
       "    <tr>\n",
       "      <th>162269</th>\n",
       "      <td>-6.697569</td>\n",
       "      <td>4.179960</td>\n",
       "      <td>-4.866476</td>\n",
       "      <td>-0.626586</td>\n",
       "      <td>-3.024024</td>\n",
       "      <td>-1.324855</td>\n",
       "      <td>-0.835983</td>\n",
       "      <td>2.692196</td>\n",
       "      <td>1.844012</td>\n",
       "      <td>2.825418</td>\n",
       "      <td>...</td>\n",
       "      <td>0.649757</td>\n",
       "      <td>0.035932</td>\n",
       "      <td>0.852066</td>\n",
       "      <td>0.245004</td>\n",
       "      <td>1.155756</td>\n",
       "      <td>0.098178</td>\n",
       "      <td>-0.214949</td>\n",
       "      <td>0.996161</td>\n",
       "      <td>1.252345</td>\n",
       "      <td>0.050478</td>\n",
       "    </tr>\n",
       "    <tr>\n",
       "      <th>158202</th>\n",
       "      <td>2.104037</td>\n",
       "      <td>0.065442</td>\n",
       "      <td>-1.428655</td>\n",
       "      <td>0.323540</td>\n",
       "      <td>0.393572</td>\n",
       "      <td>-0.720375</td>\n",
       "      <td>0.054806</td>\n",
       "      <td>-0.347347</td>\n",
       "      <td>2.082360</td>\n",
       "      <td>-0.464191</td>\n",
       "      <td>...</td>\n",
       "      <td>-0.271997</td>\n",
       "      <td>0.093486</td>\n",
       "      <td>0.657963</td>\n",
       "      <td>-0.007259</td>\n",
       "      <td>0.431328</td>\n",
       "      <td>0.360900</td>\n",
       "      <td>-0.474799</td>\n",
       "      <td>-0.024631</td>\n",
       "      <td>-0.056532</td>\n",
       "      <td>-0.357576</td>\n",
       "    </tr>\n",
       "    <tr>\n",
       "      <th>203014</th>\n",
       "      <td>-2.602873</td>\n",
       "      <td>-1.593223</td>\n",
       "      <td>0.029747</td>\n",
       "      <td>-3.264885</td>\n",
       "      <td>1.156256</td>\n",
       "      <td>0.930955</td>\n",
       "      <td>-0.477817</td>\n",
       "      <td>0.828043</td>\n",
       "      <td>-0.543710</td>\n",
       "      <td>-0.592860</td>\n",
       "      <td>...</td>\n",
       "      <td>-1.154639</td>\n",
       "      <td>-0.680829</td>\n",
       "      <td>-1.305820</td>\n",
       "      <td>0.841971</td>\n",
       "      <td>-1.009959</td>\n",
       "      <td>-0.495993</td>\n",
       "      <td>0.056765</td>\n",
       "      <td>-0.434924</td>\n",
       "      <td>0.375225</td>\n",
       "      <td>-0.176200</td>\n",
       "    </tr>\n",
       "    <tr>\n",
       "      <th>129141</th>\n",
       "      <td>-1.325968</td>\n",
       "      <td>1.418993</td>\n",
       "      <td>-0.531978</td>\n",
       "      <td>-1.422122</td>\n",
       "      <td>2.635501</td>\n",
       "      <td>3.223994</td>\n",
       "      <td>0.477654</td>\n",
       "      <td>0.538505</td>\n",
       "      <td>0.756693</td>\n",
       "      <td>1.527077</td>\n",
       "      <td>...</td>\n",
       "      <td>0.941600</td>\n",
       "      <td>-0.599390</td>\n",
       "      <td>-1.053070</td>\n",
       "      <td>-0.004289</td>\n",
       "      <td>0.917391</td>\n",
       "      <td>0.221693</td>\n",
       "      <td>0.059054</td>\n",
       "      <td>0.459664</td>\n",
       "      <td>-0.018905</td>\n",
       "      <td>-0.324681</td>\n",
       "    </tr>\n",
       "  </tbody>\n",
       "</table>\n",
       "<p>5 rows × 29 columns</p>\n",
       "</div>"
      ],
      "text/plain": [
       "              V1        V2        V3        V4        V5        V6        V7  \\\n",
       "11514   1.451038 -0.603389  0.007125 -0.616909 -0.260790  0.474328 -0.826944   \n",
       "162269 -6.697569  4.179960 -4.866476 -0.626586 -3.024024 -1.324855 -0.835983   \n",
       "158202  2.104037  0.065442 -1.428655  0.323540  0.393572 -0.720375  0.054806   \n",
       "203014 -2.602873 -1.593223  0.029747 -3.264885  1.156256  0.930955 -0.477817   \n",
       "129141 -1.325968  1.418993 -0.531978 -1.422122  2.635501  3.223994  0.477654   \n",
       "\n",
       "              V8        V9       V10        ...               V20       V21  \\\n",
       "11514   0.042607  1.101926  0.110945        ...         -0.054708 -0.249080   \n",
       "162269  2.692196  1.844012  2.825418        ...          0.649757  0.035932   \n",
       "158202 -0.347347  2.082360 -0.464191        ...         -0.271997  0.093486   \n",
       "203014  0.828043 -0.543710 -0.592860        ...         -1.154639 -0.680829   \n",
       "129141  0.538505  0.756693  1.527077        ...          0.941600 -0.599390   \n",
       "\n",
       "             V22       V23       V24       V25       V26       V27       V28  \\\n",
       "11514  -0.389480 -0.151185 -1.380077  0.610950 -0.163068 -0.005513 -0.013058   \n",
       "162269  0.852066  0.245004  1.155756  0.098178 -0.214949  0.996161  1.252345   \n",
       "158202  0.657963 -0.007259  0.431328  0.360900 -0.474799 -0.024631 -0.056532   \n",
       "203014 -1.305820  0.841971 -1.009959 -0.495993  0.056765 -0.434924  0.375225   \n",
       "129141 -1.053070 -0.004289  0.917391  0.221693  0.059054  0.459664 -0.018905   \n",
       "\n",
       "        Normalized Amount  \n",
       "11514           -0.320476  \n",
       "162269           0.050478  \n",
       "158202          -0.357576  \n",
       "203014          -0.176200  \n",
       "129141          -0.324681  \n",
       "\n",
       "[5 rows x 29 columns]"
      ]
     },
     "execution_count": 29,
     "metadata": {},
     "output_type": "execute_result"
    }
   ],
   "source": [
    "# now take all over sampled data as trainging and test it for test data\n",
    "os_data_X = os_data.ix[:,os_data.columns != \"Class\"]\n",
    "os_data_y = os_data.ix[:,os_data.columns == \"Class\"]\n",
    "#for that we have to standrdize the normal amount and drop the time from it\n",
    "data_test_X[\"Normalized Amount\"] = StandardScaler().fit_transform(data_test_X['Amount'].reshape(-1, 1))\n",
    "data_test_X.drop([\"Time\",\"Amount\"],axis=1,inplace=True)\n",
    "data_test_X.head()\n",
    "\n"
   ]
  },
  {
   "cell_type": "code",
   "execution_count": 30,
   "metadata": {
    "_cell_guid": "caea4e43-aa7d-c1f6-04a0-be33c13d503e"
   },
   "outputs": [
    {
     "name": "stdout",
     "output_type": "stream",
     "text": [
      "the recall for this model is : 0.773722627737\n",
      "TP 106\n",
      "TN 85300\n",
      "FP 6\n",
      "FN 31\n"
     ]
    },
    {
     "data": {
      "image/png": "[encoded data removed]",
      "text/plain": [
       "<matplotlib.figure.Figure at 0x7f6da27ecc88>"
      ]
     },
     "metadata": {},
     "output_type": "display_data"
    },
    {
     "name": "stdout",
     "output_type": "stream",
     "text": [
      "\n",
      "----------Classification Report------------------------------------\n",
      "             precision    recall  f1-score   support\n",
      "\n",
      "          0       1.00      1.00      1.00     85306\n",
      "          1       0.95      0.77      0.85       137\n",
      "\n",
      "avg / total       1.00      1.00      1.00     85443\n",
      "\n"
     ]
    }
   ],
   "source": [
    "# now use it for modeling\n",
    "clf= RandomForestClassifier(n_estimators=100)\n",
    "model(clf,os_data_X,data_test_X,os_data_y,data_test_y)"
   ]
  },
  {
   "cell_type": "markdown",
   "metadata": {
    "_cell_guid": "5f625858-5e45-49c3-bb44-8e6c66daffd7"
   },
   "source": [
    "**Observations**\n",
    "\n",
    " 1. Now here we can see recall decrease to only 83 % which is not bad  but not good also\n",
    " 2. The precision is 0.93 which is good \n",
    " 3. from these observation we can say that the oversampling is better than the Under sampling because on Under sampling we were loosing a large amount of data or we can say a good amount of information so why the there precision was very low "
   ]
  },
  {
   "cell_type": "markdown",
   "metadata": {
    "_cell_guid": "5c41995b-c8fa-554c-92a3-b2076522917c"
   },
   "source": [
    "###SMOTE"
   ]
  },
  {
   "cell_type": "code",
   "execution_count": 31,
   "metadata": {
    "_cell_guid": "54995fac-4954-1b8c-948d-466017159b0d"
   },
   "outputs": [],
   "source": [
    "# Lets Use SMOTE for Sampling\n",
    "# As I mentioned it is also a type of oversampling but in this the data is not replicated but they are created \n",
    "#lets start with importing libraries\n",
    "from imblearn.over_sampling import SMOTE\n",
    "data = pd.read_csv('../input/creditcard.csv')"
   ]
  },
  {
   "cell_type": "code",
   "execution_count": 32,
   "metadata": {
    "_cell_guid": "9cc6383f-5f47-511a-ef25-8da061390d34"
   },
   "outputs": [
    {
     "name": "stdout",
     "output_type": "stream",
     "text": [
      "length of training data\n",
      "199364\n",
      "length of test data\n",
      "85443\n"
     ]
    }
   ],
   "source": [
    "os = SMOTE(random_state=0) #   We are using SMOTE as the function for oversampling\n",
    "# now we can devided our data into training and test data\n",
    "# Call our method data prepration on our dataset\n",
    "data_train_X,data_test_X,data_train_y,data_test_y=data_prepration(data)\n",
    "columns = data_train_X.columns\n"
   ]
  },
  {
   "cell_type": "code",
   "execution_count": 33,
   "metadata": {
    "_cell_guid": "54312e1d-58d8-184f-8596-48a8084a0ee7"
   },
   "outputs": [
    {
     "name": "stdout",
     "output_type": "stream",
     "text": [
      "length of oversampled data is  398078\n",
      "Number of normal transcation in oversampled data 199039\n",
      "No.of fraud transcation 199039\n",
      "Proportion of Normal data in oversampled data is  0.5\n",
      "Proportion of fraud data in oversampled data is  0.5\n"
     ]
    }
   ],
   "source": [
    "# now use SMOTE to oversample our train data which have features data_train_X and labels in data_train_y\n",
    "os_data_X,os_data_y=os.fit_sample(data_train_X,data_train_y)\n",
    "os_data_X = pd.DataFrame(data=os_data_X,columns=columns )\n",
    "os_data_y= pd.DataFrame(data=os_data_y,columns=[\"Class\"])\n",
    "# we can Check the numbers of our data\n",
    "print(\"length of oversampled data is \",len(os_data_X))\n",
    "print(\"Number of normal transcation in oversampled data\",len(os_data_y[os_data_y[\"Class\"]==0]))\n",
    "print(\"No.of fraud transcation\",len(os_data_y[os_data_y[\"Class\"]==1]))\n",
    "print(\"Proportion of Normal data in oversampled data is \",len(os_data_y[os_data_y[\"Class\"]==0])/len(os_data_X))\n",
    "print(\"Proportion of fraud data in oversampled data is \",len(os_data_y[os_data_y[\"Class\"]==1])/len(os_data_X))"
   ]
  },
  {
   "cell_type": "markdown",
   "metadata": {
    "_cell_guid": "59f55f2a-cb6a-47d9-7e8a-67a7af8e89a5"
   },
   "source": [
    " 1. By using Smote we are getting a 50 - 50 each\n",
    "\n",
    " 2. No need of checking here in over sampled data itself from previous we know it will be overfitting\n",
    "\n",
    " 3. let us check with the test data direct\n"
   ]
  },
  {
   "cell_type": "code",
   "execution_count": 34,
   "metadata": {
    "_cell_guid": "4f9b50e0-433d-607b-e082-84d88467b705"
   },
   "outputs": [],
   "source": [
    "# Let us first do our amount normalised and other that we are doing above\n",
    "os_data_X[\"Normalized Amount\"] = StandardScaler().fit_transform(os_data_X['Amount'].reshape(-1, 1))\n",
    "os_data_X.drop([\"Time\",\"Amount\"],axis=1,inplace=True)\n",
    "data_test_X[\"Normalized Amount\"] = StandardScaler().fit_transform(data_test_X['Amount'].reshape(-1, 1))\n",
    "data_test_X.drop([\"Time\",\"Amount\"],axis=1,inplace=True)\n"
   ]
  },
  {
   "cell_type": "code",
   "execution_count": 35,
   "metadata": {
    "_cell_guid": "d15d05b6-18d4-85cd-2488-527a8333e203"
   },
   "outputs": [
    {
     "name": "stdout",
     "output_type": "stream",
     "text": [
      "the recall for this model is : 0.862275449102\n",
      "TP 144\n",
      "TN 85253\n",
      "FP 23\n",
      "FN 23\n"
     ]
    },
    {
     "data": {
      "image/png": "[encoded data removed]",
      "text/plain": [
       "<matplotlib.figure.Figure at 0x7f6da690eac8>"
      ]
     },
     "metadata": {},
     "output_type": "display_data"
    },
    {
     "name": "stdout",
     "output_type": "stream",
     "text": [
      "\n",
      "----------Classification Report------------------------------------\n",
      "             precision    recall  f1-score   support\n",
      "\n",
      "          0       1.00      1.00      1.00     85276\n",
      "          1       0.86      0.86      0.86       167\n",
      "\n",
      "avg / total       1.00      1.00      1.00     85443\n",
      "\n"
     ]
    }
   ],
   "source": [
    "# Now start modeling\n",
    "clf= RandomForestClassifier(n_estimators=100)\n",
    "# train data using oversampled data and predict for the test data\n",
    "model(clf,os_data_X,data_test_X,os_data_y,data_test_y)"
   ]
  },
  {
   "cell_type": "markdown",
   "metadata": {
    "_cell_guid": "953729c6-5ef8-4a49-18ca-7444a5df6ba0"
   },
   "source": [
    "**observation **\n",
    "\n",
    " 1. The recall is nearby the previous one done by over sampling \n",
    " 2. The precision decrease in this case"
   ]
  },
  {
   "cell_type": "code",
   "execution_count": 36,
   "metadata": {
    "_cell_guid": "af98be8c-a128-5300-1317-22069454181e"
   },
   "outputs": [],
   "source": []
  }
 ],
 "metadata": {
  "_change_revision": 2,
  "_is_fork": false,
  "kernelspec": {
   "display_name": "Python 3",
   "language": "python",
   "name": "python3"
  },
  "language_info": {
   "codemirror_mode": {
    "name": "ipython",
    "version": 3
   },
   "file_extension": ".py",
   "mimetype": "text/x-python",
   "name": "python",
   "nbconvert_exporter": "python",
   "pygments_lexer": "ipython3",
   "version": "3.6.0"
  }
 },
 "nbformat": 4,
 "nbformat_minor": 0
}
