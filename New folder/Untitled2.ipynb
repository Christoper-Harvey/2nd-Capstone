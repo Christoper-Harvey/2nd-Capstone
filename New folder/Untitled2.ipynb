{
 "cells": [
  {
   "cell_type": "code",
   "execution_count": 1,
   "metadata": {},
   "outputs": [
    {
     "name": "stderr",
     "output_type": "stream",
     "text": [
      "Using TensorFlow backend.\n"
     ]
    }
   ],
   "source": [
    "import numpy\n",
    "import keras\n",
    "from keras.models import Sequential\n",
    "from keras.layers import Dense, Dropout\n",
    "from keras.optimizers import *\n",
    "from keras.wrappers.scikit_learn import KerasClassifier\n",
    "from keras.datasets import mnist\n",
    "from sklearn.model_selection import GridSearchCV\n",
    "import pprint\n",
    "pp = pprint.PrettyPrinter(indent = 4)"
   ]
  },
  {
   "cell_type": "code",
   "execution_count": 2,
   "metadata": {},
   "outputs": [],
   "source": [
    "def build_model(optimizer, learning_rate, activation, dropout_rate,\n",
    "                initilizer,num_unit):\n",
    "    keras.backend.clear_session()\n",
    "    model = Sequential()\n",
    "    model.add(Dense(num_unit, kernel_initializer=initilizer,\n",
    "                    activation=activation, input_shape=(784,)))\n",
    "    model.add(Dropout(dropout_rate))\n",
    "    model.add(Dense(num_unit, kernel_initializer=initilizer,\n",
    "                    activation=activation))\n",
    "    model.add(Dropout(dropout_rate)) \n",
    "    model.add(Dense(10, activation='softmax'))\n",
    "    model.compile(loss='categorical_crossentropy',\n",
    "                  optimizer=optimizer(lr=learning_rate),\n",
    "                  metrics=['accuracy'])\n",
    "    return model"
   ]
  },
  {
   "cell_type": "code",
   "execution_count": 3,
   "metadata": {},
   "outputs": [
    {
     "name": "stdout",
     "output_type": "stream",
     "text": [
      "Downloading data from https://s3.amazonaws.com/img-datasets/mnist.npz\n",
      "11493376/11490434 [==============================] - 1s 0us/step\n"
     ]
    }
   ],
   "source": [
    "(x_train, y_train), (x_test, y_test) = mnist.load_data()\n",
    "x_train = x_train.reshape(60000, 784)\n",
    "x_test = x_test.reshape(10000, 784)\n",
    "x_train = x_train.astype('float32')\n",
    "x_test = x_test.astype('float32')\n",
    "x_train /= 255\n",
    "x_test /= 255"
   ]
  },
  {
   "cell_type": "code",
   "execution_count": 4,
   "metadata": {},
   "outputs": [],
   "source": [
    "# [:1] is for testing\n",
    "\n",
    "batch_size = [20, 50, 100][:1]\n",
    "\n",
    "epochs = [1, 20, 50][:1]\n",
    "\n",
    "initilizer = ['lecun_uniform', 'normal', 'he_normal', 'he_uniform'][:1]\n",
    "\n",
    "learning_rate = [0.1, 0.001, 0.02][:1]\n",
    "\n",
    "dropout_rate = [0.3, 0.2, 0.8][:1]\n",
    "\n",
    "num_unit = [10, 5][:1]\n",
    "\n",
    "activation = ['relu', 'tanh', 'sigmoid', 'hard_sigmoid', 'linear'][:1]\n",
    "\n",
    "optimizer = [SGD, RMSprop, Adagrad, Adadelta, Adam, Adamax, Nadam][:1]"
   ]
  },
  {
   "cell_type": "code",
   "execution_count": 5,
   "metadata": {},
   "outputs": [],
   "source": [
    "# Creat the wrapper and pass params to GridSearchCV \n",
    "# parameters is a dict with all values\n",
    "\n",
    "parameters = dict(batch_size = batch_size,\n",
    "                  epochs = epochs,\n",
    "                  dropout_rate = dropout_rate,\n",
    "                  num_unit = num_unit,\n",
    "                  initilizer = initilizer,\n",
    "                  learning_rate = learning_rate,\n",
    "                  activation = activation,\n",
    "                  optimizer = optimizer)\n",
    "\n",
    "model = KerasClassifier(build_fn=build_model, verbose=0)\n",
    "\n",
    "models = GridSearchCV(estimator = model, param_grid=parameters, n_jobs=1)"
   ]
  },
  {
   "cell_type": "code",
   "execution_count": null,
   "metadata": {},
   "outputs": [
    {
     "name": "stderr",
     "output_type": "stream",
     "text": [
      "c:\\users\\doomb\\anaconda3\\envs\\capstone2\\lib\\site-packages\\sklearn\\model_selection\\_split.py:2053: FutureWarning: You should specify a value for 'cv' instead of relying on the default value. The default value will change from 3 to 5 in version 0.22.\n",
      "  warnings.warn(CV_WARNING, FutureWarning)\n"
     ]
    }
   ],
   "source": [
    "best_model = models.fit(x_train, y_train)\n",
    "print('Best model :')\n",
    "pp.pprint(best_model.best_params_)"
   ]
  }
 ],
 "metadata": {
  "kernelspec": {
   "display_name": "Python 3",
   "language": "python",
   "name": "python3"
  },
  "language_info": {
   "codemirror_mode": {
    "name": "ipython",
    "version": 3
   },
   "file_extension": ".py",
   "mimetype": "text/x-python",
   "name": "python",
   "nbconvert_exporter": "python",
   "pygments_lexer": "ipython3",
   "version": "3.6.8"
  }
 },
 "nbformat": 4,
 "nbformat_minor": 2
}
