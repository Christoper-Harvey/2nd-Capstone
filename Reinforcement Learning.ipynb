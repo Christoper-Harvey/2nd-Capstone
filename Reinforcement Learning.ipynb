{
 "cells": [
  {
   "cell_type": "markdown",
   "metadata": {},
   "source": [
    "\n",
    "\n",
    "\n",
    "\n",
    "Reinforcement Learning Algorithms for solving Classification Problems http://www.ai.rug.nl/~mwiering/GROUP/ARTICLES/rl_classification.pdf\n",
    "\n",
    "Reinforcement Learning as Classification: Leveraging Modern Classifiers https://users.cs.duke.edu/~parr/icml03.pdf\n",
    "\n",
    "Deep Reinforcement Learning for Imbalanced Classification https://arxiv.org/pdf/1901.01379.pdf\n",
    "\n",
    "\n",
    "\n",
    "\n",
    "\n",
    "\n"
   ]
  },
  {
   "cell_type": "markdown",
   "metadata": {},
   "source": []
  }
 ],
 "metadata": {
  "kernelspec": {
   "display_name": "Python 3",
   "language": "python",
   "name": "python3"
  },
  "language_info": {
   "codemirror_mode": {
    "name": "ipython",
    "version": 3
   },
   "file_extension": ".py",
   "mimetype": "text/x-python",
   "name": "python",
   "nbconvert_exporter": "python",
   "pygments_lexer": "ipython3",
   "version": "3.6.8"
  }
 },
 "nbformat": 4,
 "nbformat_minor": 2
}
