{
 "cells": [
  {
   "cell_type": "code",
   "execution_count": 1,
   "metadata": {},
   "outputs": [],
   "source": [
    "# Import our standard data science packages\n",
    "import numpy as np\n",
    "import pandas as pd\n",
    "import os\n",
    "import matplotlib.pyplot as plt\n",
    "%matplotlib inline\n",
    "\n",
    "# We'll use this to evaluate our models\n",
    "from sklearn.preprocessing import StandardScaler\n",
    "from sklearn.metrics import accuracy_score, confusion_matrix\n",
    "from sklearn.model_selection import KFold, cross_val_score\n",
    "from sklearn.model_selection import StratifiedKFold, KFold, train_test_split, GroupKFold, GroupShuffleSplit\n",
    "from sklearn.metrics import *\n",
    "import gc\n",
    "pd.options.display.precision = 15\n",
    "\n",
    "# Import our models\n",
    "import lightgbm as lgb\n",
    "import xgboost as xgb\n",
    "import time\n",
    "import datetime\n",
    "\n",
    "import warnings\n",
    "warnings.filterwarnings(\"ignore\")\n",
    "\n",
    "from IPython.display import HTML"
   ]
  },
  {
   "cell_type": "code",
   "execution_count": 2,
   "metadata": {},
   "outputs": [
    {
     "name": "stdout",
     "output_type": "stream",
     "text": [
      "Data is ready!\n"
     ]
    }
   ],
   "source": [
    "# Lets import our data\n",
    "target = pd.read_csv('target.csv')\n",
    "data = pd.read_csv('data.csv')\n",
    "test = pd.read_csv('test.csv')\n",
    "vdata = pd.read_csv('vdata.csv')\n",
    "vtarget = pd.read_csv('vtarget.csv')\n",
    "ltarget = pd.read_csv('ltarget.csv', header=None)\n",
    "lvtarget = pd.read_csv('lvtarget.csv', header=None)\n",
    "wdata = pd.read_csv('whole_data.csv')\n",
    "wtarget = pd.read_csv('whole_target.csv', header=None)\n",
    "\n",
    "winedata = pd.read_csv('winedata.csv')\n",
    "\n",
    "ccdata = pd.read_csv('creditcard.csv')\n",
    "\n",
    "irisdata = pd.read_csv('irisdata.csv')\n",
    "iristarget = pd.read_csv('iristarget.csv')\n",
    "\n",
    "print('Data is ready!')"
   ]
  },
  {
   "cell_type": "code",
   "execution_count": 3,
   "metadata": {},
   "outputs": [],
   "source": [
    "# Because XGBoost uses a .split() command we will get rid of any whitespace in our column names.\n",
    "winedata.columns = ['fixed_acidity','volatile_acidity','citric_acid','residual_sugar','chlorides','free_sulfur_dioxide','total_sulfur_dioxide','density','pH','sulphates','alcohol', 'quality']\n",
    "irisdata.columns = ['sepal_length_(cm)','sepal_width_(cm)','petal_length_(cm)','petal_width_(cm)']"
   ]
  },
  {
   "cell_type": "code",
   "execution_count": 4,
   "metadata": {},
   "outputs": [],
   "source": [
    "# Lets go ahead and set up our data. First lets make our target and drop it from wine.\n",
    "winetarget = winedata['quality']\n",
    "winedata = winedata.drop('quality', axis=1)\n",
    "\n",
    "# Lets trim off time and amount from ccdata as those are independent features we don't want the model to learn.\n",
    "cctarget = ccdata['Class']\n",
    "ccdata = ccdata.drop(['Time','Amount', 'Class'], axis=1)\n",
    "\n",
    "iristarget = iristarget['target']\n",
    "\n",
    "target = target['surface']\n",
    "vtarget = vtarget['surface']\n",
    "ltarget = ltarget[0]\n",
    "lvtarget = lvtarget[0]\n",
    "wdata = wdata.drop(['series_id', 'group_id', 'surface'], axis=1)\n",
    "wtarget = wtarget[0]\n",
    "\n",
    "irisd, id_test, irist, it_test = train_test_split(irisdata, iristarget, test_size=0.33, random_state=42)\n",
    "wined, wd_test, winet, wt_test = train_test_split(winedata, winetarget, test_size=0.33, random_state=42)\n",
    "ccd, ccd_test, cct, cct_test = train_test_split(ccdata, cctarget, test_size=0.33, random_state=42)"
   ]
  },
  {
   "cell_type": "code",
   "execution_count": 5,
   "metadata": {
    "scrolled": true
   },
   "outputs": [
    {
     "name": "stdout",
     "output_type": "stream",
     "text": [
      "(150, 4)\n",
      "(150,)\n",
      "(6497, 11)\n",
      "(6497,)\n",
      "(284807, 28)\n",
      "(284807,)\n",
      "(2804,)\n",
      "(1006,)\n",
      "(358912,)\n",
      "(128768,)\n",
      "(487680,)\n",
      "(487680, 23)\n",
      "(128768, 23)\n",
      "(358912, 23)\n"
     ]
    },
    {
     "data": {
      "text/plain": [
       "(488448, 23)"
      ]
     },
     "execution_count": 5,
     "metadata": {},
     "output_type": "execute_result"
    }
   ],
   "source": [
    "# Now lets make sure our train and target variables are even for every dataset\n",
    "print(irisdata.shape)\n",
    "print(iristarget.shape)\n",
    "\n",
    "print(winedata.shape)\n",
    "print(winetarget.shape)\n",
    "\n",
    "print(ccdata.shape)\n",
    "print(cctarget.shape)\n",
    "\n",
    "print(target.shape)\n",
    "print(vtarget.shape)\n",
    "print(ltarget.shape)\n",
    "print(lvtarget.shape)\n",
    "print(wtarget.shape)\n",
    "print(wdata.shape)\n",
    "print(vdata.shape)\n",
    "print(data.shape)\n",
    "test.shape"
   ]
  },
  {
   "cell_type": "code",
   "execution_count": 6,
   "metadata": {},
   "outputs": [],
   "source": [
    "# Just like in our other notebooks we are going to SMOTE the ccdata\n",
    "from imblearn.over_sampling import SMOTE\n",
    "sm = SMOTE(sampling_strategy=0.5, random_state=2)\n",
    "\n",
    "ccd_SMOTE, cct_SMOTE = sm.fit_resample(ccd,cct)\n",
    "\n",
    "ccd_SMOTE = pd.DataFrame(ccd_SMOTE, columns=ccd.columns)"
   ]
  },
  {
   "cell_type": "code",
   "execution_count": 7,
   "metadata": {},
   "outputs": [
    {
     "name": "stdout",
     "output_type": "stream",
     "text": [
      "190820\n"
     ]
    },
    {
     "data": {
      "text/plain": [
       "285715"
      ]
     },
     "execution_count": 7,
     "metadata": {},
     "output_type": "execute_result"
    }
   ],
   "source": [
    "# Lets see how many new minority samples there are.\n",
    "print(len(cct))\n",
    "len(cct_SMOTE)"
   ]
  },
  {
   "cell_type": "markdown",
   "metadata": {},
   "source": [
    "In this notebook we will try both LightGBM and XGBoost. If you are new to machine learning and did not read my 'Standard SKLearn' notebook I would encourage you to do so. It covers more of the basics and has some great learning resources!\n",
    "\n",
    "XGBoost is a boosting machine, The love child of kagglers everywhere! It is an incredibly powerful algorithm for learning just about anything. It is easy to set up and run but tuning is a nightmare! It has a strong learning curve but it is very worth the effort to learn. I linked an article below about how to tune XGBoost, Give it a read!\n",
    "\n",
    "LightGBM is gradient boosting machine. You might ask what is the difference? Good question! One is much, much faster on big data. They both are awful to tune though. Again I linked the tuning guides below!\n",
    "\n",
    "Here is a great article about the differences and the history of the two models.\n",
    "\n",
    "https://www.analyticsvidhya.com/blog/2017/06/which-algorithm-takes-the-crown-light-gbm-vs-xgboost/\n",
    "\n",
    "Below are the docs for both as well as some introductionary tutorials.\n",
    "\n",
    "https://lightgbm.readthedocs.io/en/latest/Python-Intro.html\n",
    "\n",
    "https://xgboost.readthedocs.io/en/latest/\n",
    "\n",
    "https://www.kaggle.com/pintu161/implementation-of-lightgbm-for-begineers\n",
    "\n",
    "https://www.analyticsvidhya.com/blog/2016/02/complete-guide-parameter-tuning-gradient-boosting-gbm-python/\n",
    "\n",
    "https://xgboost.readthedocs.io/en/latest/tutorials/model.html\n",
    "\n",
    "https://www.analyticsvidhya.com/blog/2016/03/complete-guide-parameter-tuning-xgboost-with-codes-python/\n",
    "\n",
    "https://towardsdatascience.com/interpretable-machine-learning-with-xgboost-9ec80d148d27"
   ]
  },
  {
   "cell_type": "code",
   "execution_count": 8,
   "metadata": {},
   "outputs": [
    {
     "data": {
      "text/plain": [
       "datetime.timedelta(0)"
      ]
     },
     "execution_count": 8,
     "metadata": {},
     "output_type": "execute_result"
    }
   ],
   "source": [
    "# Lets time our models for fun.\n",
    "from datetime import datetime \n",
    "# Put this above the code.\n",
    "start = datetime.now()\n",
    "\n",
    "# Put this below.\n",
    "stop = datetime.now()\n",
    "execution_time = stop-start\n",
    "execution_time"
   ]
  },
  {
   "cell_type": "markdown",
   "metadata": {},
   "source": [
    "We will start with LightGBM. This is a great tool for large databases.\n",
    "\n",
    "Lets start things off with the same order we used in SKLearn. Iris, Wine, CCD, IMUSD.\n",
    "\n",
    "We are going to do both regular Cross-Validation and fixed set validation."
   ]
  },
  {
   "cell_type": "code",
   "execution_count": 9,
   "metadata": {},
   "outputs": [
    {
     "name": "stdout",
     "output_type": "stream",
     "text": [
      "Accuracy: 100.00%\n",
      "0:00:00.956292\n"
     ]
    }
   ],
   "source": [
    "# This will be a fixed set validation model. The next model will use CV.\n",
    "\n",
    "# For keeping time\n",
    "start = datetime.now()\n",
    "# Loading our data as a custom LGM dataset.\n",
    "train_data=lgb.Dataset(irisd,label=irist)\n",
    "\n",
    "# These are our model's hyperparameters which we will tune by hand to give us the best model we get get!\n",
    "param = {'num_leaves': 50,\n",
    "          'min_samples_split':20,\n",
    "          'min_data_in_leaf': 2,\n",
    "          'max_depth': 3,\n",
    "          'learning_rate': .001,\n",
    "          \"boosting\": \"gbdt\",\n",
    "          \"verbosity\": -1,\n",
    "          'objective': 'multiclass',\n",
    "          'num_class':3,\n",
    "          'metric': 'multi_logloss',\n",
    "          'nthread': -1,\n",
    "         }\n",
    "\n",
    "# The amount of trees we will explore.\n",
    "num_round=2000\n",
    "\n",
    "# The training command and testing\n",
    "lgbm=lgb.train(param,train_data,num_round)\n",
    "y_pred=lgbm.predict(id_test)\n",
    "\n",
    "# This tells us how well our model is doing.\n",
    "predictions = np.argmax(y_pred, axis=-1)\n",
    "accuracy = accuracy_score(it_test, predictions)\n",
    "print(\"Accuracy: %.2f%%\" % (accuracy * 100.0))\n",
    "\n",
    "# We end the time command after and subtract the difference to get time elapsed.\n",
    "stop = datetime.now()\n",
    "execution_time = stop-start\n",
    "print(execution_time)\n",
    "# datetime.timedelta( , , . ) representation => (days , minutes , seconds . microseconds)"
   ]
  },
  {
   "cell_type": "code",
   "execution_count": 10,
   "metadata": {
    "scrolled": false
   },
   "outputs": [
    {
     "name": "stdout",
     "output_type": "stream",
     "text": [
      "Accuracy: 96.65%\n",
      "0:00:02.770885\n"
     ]
    }
   ],
   "source": [
    "# This is our first CV model, I'll keep the formatting of both for future models.\n",
    "\n",
    "start = datetime.now()\n",
    "# The number of CV folds we want to do.\n",
    "kfold = StratifiedKFold(n_splits=3, shuffle=True, random_state=11)\n",
    "\n",
    "# Our model's parameters.\n",
    "params = {'num_leaves': 20,\n",
    "          'min_samples_split':1,\n",
    "          'min_data_in_leaf': 4,\n",
    "          'max_depth': 3,\n",
    "          'learning_rate': .005,\n",
    "          \"boosting\": \"gbdt\",\n",
    "          \"verbosity\": -1,\n",
    "          'objective': 'multiclass',\n",
    "          'num_class':3,\n",
    "          'metric': 'multi_logloss',\n",
    "          'nthread': -1,\n",
    "          'max_features':3\n",
    "         }\n",
    "\n",
    "# Our data, this time not as a custom dataset.\n",
    "X = irisdata\n",
    "Y = iristarget\n",
    "\n",
    "# Our model\n",
    "model = lgb.LGBMClassifier(**params, n_estimators = 2000, n_jobs = -1)\n",
    "\n",
    "# This trains our model then tells us how well it is doing.\n",
    "results = cross_val_score(model, X, Y, cv=kfold)\n",
    "print(\"Accuracy: %.2f%%\" % (results.mean()*100))\n",
    "\n",
    "stop = datetime.now()\n",
    "execution_time = stop-start\n",
    "print(execution_time)"
   ]
  },
  {
   "cell_type": "code",
   "execution_count": 11,
   "metadata": {},
   "outputs": [
    {
     "name": "stdout",
     "output_type": "stream",
     "text": [
      "Accuracy: 81.72%\n",
      "0:00:01.731553\n"
     ]
    }
   ],
   "source": [
    "# Now for wine. I'm curious to see if we can get it better then both XGBoost and Deep learning!\n",
    "start = datetime.now()\n",
    "\n",
    "train_data=lgb.Dataset(wined,label=winet)\n",
    "\n",
    "param = {'num_leaves': 152,\n",
    "          'min_data_in_leaf': 12,\n",
    "          'objective': 'binary',\n",
    "          'max_depth': 22,\n",
    "          'learning_rate': 0.14,\n",
    "          \"boosting\": \"gbdt\",\n",
    "          \"verbosity\": -1,\n",
    "          \"num_class\": 1,\n",
    "          'nthread': -1,\n",
    "         }\n",
    "\n",
    "num_round=2000\n",
    "\n",
    "lgbm=lgb.train(param,train_data,num_round)\n",
    "y_pred=lgbm.predict(wd_test)\n",
    "\n",
    "predictions = [round(value) for value in y_pred]\n",
    "accuracy = accuracy_score(wt_test, predictions)\n",
    "print(\"Accuracy: %.2f%%\" % (accuracy * 100.0))\n",
    "\n",
    "stop = datetime.now()\n",
    "execution_time = stop-start\n",
    "print(execution_time)"
   ]
  },
  {
   "cell_type": "code",
   "execution_count": 12,
   "metadata": {
    "scrolled": false
   },
   "outputs": [
    {
     "name": "stdout",
     "output_type": "stream",
     "text": [
      "Accuracy: 82.55%\n",
      "0:00:14.040484\n"
     ]
    }
   ],
   "source": [
    "# Now again for CV.\n",
    "start = datetime.now()\n",
    "\n",
    "kfold = KFold(n_splits=3, shuffle=True, random_state=11)\n",
    "\n",
    "params = {'num_leaves': 150,\n",
    "          'min_data_in_leaf': 12,\n",
    "          'objective': 'binary',\n",
    "          'max_depth': 22,\n",
    "          'learning_rate': 0.03,\n",
    "          \"boosting\": \"gbdt\",\n",
    "          \"verbosity\": -1,\n",
    "          \"num_class\": 1,\n",
    "          'nthread': -1,\n",
    "         }\n",
    "\n",
    "X = winedata\n",
    "Y = winetarget\n",
    "\n",
    "model = lgb.LGBMClassifier(**params, n_estimators = 2000, n_jobs = -1)\n",
    "\n",
    "results = cross_val_score(model, X, Y, cv=kfold)\n",
    "print(\"Accuracy: %.2f%%\" % (results.mean()*100))\n",
    "\n",
    "stop = datetime.now()\n",
    "execution_time = stop-start\n",
    "print(execution_time)"
   ]
  },
  {
   "cell_type": "markdown",
   "metadata": {},
   "source": [
    "YES!!! All it took was the state of the art to beat the scores.\n",
    "\n",
    "Next we'll do the CCD."
   ]
  },
  {
   "cell_type": "code",
   "execution_count": 13,
   "metadata": {},
   "outputs": [
    {
     "name": "stdout",
     "output_type": "stream",
     "text": [
      "Accuracy: 99.97%\n",
      "0:00:05.321714\n"
     ]
    }
   ],
   "source": [
    "start = datetime.now()\n",
    "\n",
    "train_data=lgb.Dataset(ccd,label=cct)\n",
    "\n",
    "param = {'num_leaves': 150,\n",
    "          'min_data_in_leaf': 20,\n",
    "          'objective': 'binary',\n",
    "          'max_depth': 5,\n",
    "          'learning_rate': 0.04,\n",
    "          \"boosting\": \"gbdt\",\n",
    "          \"verbosity\": -1,\n",
    "          'reg_alpha': 0.9,\n",
    "          'reg_lambda': 0.9,\n",
    "          \"num_class\": 1,\n",
    "          'nthread': -1,\n",
    "         }\n",
    "\n",
    "num_round=2000\n",
    "\n",
    "lgbm=lgb.train(param,train_data,num_round)\n",
    "y_pred=lgbm.predict(ccd_test)\n",
    "\n",
    "predictions = [round(value) for value in y_pred]\n",
    "accuracy = accuracy_score(cct_test, predictions)\n",
    "print(\"Accuracy: %.2f%%\" % (accuracy * 100.0))\n",
    "\n",
    "stop = datetime.now()\n",
    "execution_time = stop-start\n",
    "print(execution_time)"
   ]
  },
  {
   "cell_type": "code",
   "execution_count": 14,
   "metadata": {},
   "outputs": [
    {
     "name": "stdout",
     "output_type": "stream",
     "text": [
      "Accuracy: 99.96%\n",
      "0:00:15.195840\n"
     ]
    }
   ],
   "source": [
    "start = datetime.now()\n",
    "\n",
    "kfold = KFold(n_splits=3, shuffle=True, random_state=11)\n",
    "\n",
    "params = {'num_leaves': 150,\n",
    "          'min_data_in_leaf': 20,\n",
    "          'objective': 'binary',\n",
    "          'max_depth': 5,\n",
    "          'learning_rate': 0.04,\n",
    "          \"boosting\": \"gbdt\",\n",
    "          \"verbosity\": -1,\n",
    "          'reg_alpha': 0.9,\n",
    "          'reg_lambda': 0.9,\n",
    "          \"num_class\": 1,\n",
    "          'nthread': -1,\n",
    "         }\n",
    "\n",
    "X = ccdata\n",
    "Y = cctarget\n",
    "\n",
    "model = lgb.LGBMClassifier(**params, n_estimators = 2000, n_jobs = -1)\n",
    "\n",
    "results = cross_val_score(model, X, Y, cv=kfold)\n",
    "print(\"Accuracy: %.2f%%\" % (results.mean()*100))\n",
    "\n",
    "stop = datetime.now()\n",
    "execution_time = stop-start\n",
    "print(execution_time)"
   ]
  },
  {
   "cell_type": "markdown",
   "metadata": {},
   "source": [
    "We did beat the 99.94% threshold! We will do better then this with deep learning though. Lets see if using the SMOTE data will help at all!"
   ]
  },
  {
   "cell_type": "code",
   "execution_count": 15,
   "metadata": {},
   "outputs": [
    {
     "name": "stdout",
     "output_type": "stream",
     "text": [
      "Accuracy: 99.95%\n",
      "0:00:06.709157\n"
     ]
    }
   ],
   "source": [
    "start = datetime.now()\n",
    "\n",
    "train_data=lgb.Dataset(ccd_SMOTE,label=cct_SMOTE)\n",
    "\n",
    "param = {'num_leaves': 150,\n",
    "          'min_data_in_leaf': 20,\n",
    "          'objective': 'binary',\n",
    "          'max_depth': 9,\n",
    "          'learning_rate': 0.3,\n",
    "          \"boosting\": \"gbdt\",\n",
    "          \"verbosity\": -1,\n",
    "          'reg_alpha': 0.1,\n",
    "          'reg_lambda': 0.1,\n",
    "          \"num_class\": 1,\n",
    "          'nthread': -1,\n",
    "         }\n",
    "\n",
    "num_round=2000\n",
    "\n",
    "lgbm=lgb.train(param,train_data,num_round)\n",
    "y_pred=lgbm.predict(ccd_test)\n",
    "\n",
    "predictions = [round(value) for value in y_pred]\n",
    "accuracy = accuracy_score(cct_test, predictions)\n",
    "print(\"Accuracy: %.2f%%\" % (accuracy * 100.0))\n",
    "\n",
    "stop = datetime.now()\n",
    "execution_time = stop-start\n",
    "print(execution_time)"
   ]
  },
  {
   "cell_type": "markdown",
   "metadata": {},
   "source": [
    "Not much better. We kept our accuracy which is impressive since we added so many new minority classes to predict. So it's definitely telling the difference between fraud and non-fraud! We just aren't getting past our record.\n",
    "\n",
    "Lets now look at the IMUSD and see if it can beat at least 60%."
   ]
  },
  {
   "cell_type": "code",
   "execution_count": 16,
   "metadata": {},
   "outputs": [
    {
     "name": "stdout",
     "output_type": "stream",
     "text": [
      "Accuracy: 35.52%\n",
      "0:05:13.611163\n"
     ]
    }
   ],
   "source": [
    "start = datetime.now()\n",
    "\n",
    "train_data=lgb.Dataset(data,label=ltarget)\n",
    "\n",
    "param = {'num_leaves': 123,\n",
    "          'min_data_in_leaf': 12,\n",
    "          'max_depth': 25,\n",
    "          'learning_rate': 0.03,\n",
    "          \"boosting\": \"gbdt\",\n",
    "          \"verbosity\": -1,\n",
    "          'objective': 'multiclass',\n",
    "          'num_class':9,\n",
    "          'metric': 'multi_logloss',\n",
    "          'nthread': -1,\n",
    "         }\n",
    "\n",
    "num_round=2000\n",
    "\n",
    "lgbm=lgb.train(param,train_data,num_round)\n",
    "y_pred=lgbm.predict(vdata)\n",
    "\n",
    "predictions = np.argmax(y_pred, axis=-1)\n",
    "accuracy = accuracy_score(lvtarget, predictions)\n",
    "print(\"Accuracy: %.2f%%\" % (accuracy * 100.0))\n",
    "\n",
    "stop = datetime.now()\n",
    "execution_time = stop-start\n",
    "print(execution_time)"
   ]
  },
  {
   "cell_type": "code",
   "execution_count": 17,
   "metadata": {},
   "outputs": [
    {
     "name": "stdout",
     "output_type": "stream",
     "text": [
      "Accuracy: 99.57%\n",
      "0:18:56.030887\n"
     ]
    }
   ],
   "source": [
    "start = datetime.now()\n",
    "\n",
    "kfold = StratifiedKFold(n_splits=3, shuffle=True, random_state=11)\n",
    "\n",
    "params = {'num_leaves': 150,\n",
    "          'min_data_in_leaf': 12,\n",
    "          'max_depth': 25,\n",
    "          'learning_rate': 0.03,\n",
    "          \"boosting\": \"gbdt\",\n",
    "          \"verbosity\": -1,\n",
    "          'objective': 'multiclass',\n",
    "          'num_class':9,\n",
    "          'metric': 'multi_logloss',\n",
    "          'nthread': -1,\n",
    "         }\n",
    "\n",
    "X = wdata\n",
    "Y = wtarget\n",
    "\n",
    "model = lgb.LGBMClassifier(**params, n_estimators = 2000, n_jobs = -1)\n",
    "\n",
    "results = cross_val_score(model, X, Y, cv=kfold)\n",
    "print(\"Accuracy: %.2f%%\" % (results.mean()*100))\n",
    "\n",
    "stop = datetime.now()\n",
    "execution_time = stop-start\n",
    "print(execution_time)"
   ]
  },
  {
   "cell_type": "markdown",
   "metadata": {},
   "source": [
    "We are not close. The first model doesn't have enough validation and training samples of the minority classes to get a good grasp on it. This data is designed to be hard to classify though.\n",
    "\n",
    "Thats it for LightGBM. Its really not that hard to create an amazing model. Just patience and time :)"
   ]
  },
  {
   "cell_type": "markdown",
   "metadata": {},
   "source": [
    "## XGBoost Time!\n",
    "\n",
    "We will do the same order and tests as above with similar hyperparameters to see how each algorithm compares."
   ]
  },
  {
   "cell_type": "code",
   "execution_count": 18,
   "metadata": {},
   "outputs": [
    {
     "name": "stdout",
     "output_type": "stream",
     "text": [
      "[0]\ttrain-merror:0.04\tvalid_data-merror:0\n",
      "Multiple eval metrics have been passed: 'valid_data-merror' will be used for early stopping.\n",
      "\n",
      "Will train until valid_data-merror hasn't improved in 200 rounds.\n",
      "Stopping. Best iteration:\n",
      "[0]\ttrain-merror:0.04\tvalid_data-merror:0\n",
      "\n",
      "Accuracy: 100.00%\n",
      "0:00:00.610193\n"
     ]
    },
    {
     "data": {
      "image/png": "[encoded data removed]",
      "text/plain": [
       "<Figure size 432x288 with 1 Axes>"
      ]
     },
     "metadata": {
      "needs_background": "light"
     },
     "output_type": "display_data"
    }
   ],
   "source": [
    "start = datetime.now()\n",
    "\n",
    "# These are the list of parameters for the model. Reference the param guide at the start of the notebook for changing them.\n",
    "param = {'max_depth':10, 'eta':.01, 'silent':1, 'objective':'multi:softmax', 'num_class':3, 'nthread':-1}\n",
    "\n",
    "# These create custom matrices for the model to work with.\n",
    "train_data = xgb.DMatrix(data=irisd, label=irist)\n",
    "valid_data = xgb.DMatrix(data=id_test, label=it_test)\n",
    "\n",
    "# You add the matrices above into a list. The model uses to train and evaluate itself.\n",
    "watchlist = [(train_data, 'train'), (valid_data, 'valid_data')]\n",
    "# This is the main model we will use for XGBoost, The set up below this code block is for a CV model.\n",
    "model = xgb.train(dtrain=train_data, num_boost_round=2000, evals=watchlist, early_stopping_rounds=200, verbose_eval=500, params=param)\n",
    "# This is what we use to test the model's performance.\n",
    "y_pred = model.predict(valid_data, ntree_limit=model.best_ntree_limit)\n",
    "\n",
    "predictions = [round(value) for value in y_pred]\n",
    "accuracy = accuracy_score(it_test, predictions)\n",
    "print(\"Accuracy: %.2f%%\" % (accuracy * 100.0))\n",
    "\n",
    "# We can even plot how important each feature is to the model!\n",
    "xgb.plot_importance(model)\n",
    "\n",
    "stop = datetime.now()\n",
    "execution_time = stop-start\n",
    "print(execution_time)"
   ]
  },
  {
   "cell_type": "code",
   "execution_count": 19,
   "metadata": {
    "scrolled": false
   },
   "outputs": [
    {
     "name": "stdout",
     "output_type": "stream",
     "text": [
      "Accuracy: 97.39%\n",
      "0:00:05.105622\n"
     ]
    }
   ],
   "source": [
    "start = datetime.now()\n",
    "\n",
    "# We will not use DMatrix for the CV model. Instead load the data as such\n",
    "X = irisdata\n",
    "Y = iristarget\n",
    "\n",
    "# CV model, The params are given below instead of in a seperate dict.\n",
    "model = xgb.XGBClassifier(max_depth=10, n_estimators=2000, learning_rate=0.001, objective='multi:softmax', num_class=3, n_jobs=-1)\n",
    "# You can change the KFolds but the standards are 3, 5, or 10. In this case 3 works best.\n",
    "kfold = StratifiedKFold(n_splits=3, random_state=7)\n",
    "# This is our accuracy metric.\n",
    "results = cross_val_score(model, X, Y, cv=kfold)\n",
    "print(\"Accuracy: %.2f%%\" % (results.mean()*100))\n",
    "\n",
    "stop = datetime.now()\n",
    "execution_time = stop-start\n",
    "print(execution_time)"
   ]
  },
  {
   "cell_type": "markdown",
   "metadata": {},
   "source": [
    "CV again not putting out the performance of set validation! XGBoost did do better then LGBM.\n",
    "\n",
    "Now then if you are comming from the SKLearn notebook you know of my struggle with the wine dataset! Lets see if we can conquer it once and for all!!! "
   ]
  },
  {
   "cell_type": "code",
   "execution_count": 20,
   "metadata": {
    "scrolled": false
   },
   "outputs": [
    {
     "name": "stdout",
     "output_type": "stream",
     "text": [
      "[0]\ttrain-error:0.10386\tvalid_data-error:0.262471\n",
      "Multiple eval metrics have been passed: 'valid_data-error' will be used for early stopping.\n",
      "\n",
      "Will train until valid_data-error hasn't improved in 200 rounds.\n",
      "Stopping. Best iteration:\n",
      "[93]\ttrain-error:0.000919\tvalid_data-error:0.182751\n",
      "\n",
      "Accuracy: 81.72%\n",
      "0:00:01.147380\n"
     ]
    },
    {
     "data": {
      "image/png": "[encoded data removed]",
      "text/plain": [
       "<Figure size 432x288 with 1 Axes>"
      ]
     },
     "metadata": {
      "needs_background": "light"
     },
     "output_type": "display_data"
    }
   ],
   "source": [
    "start = datetime.now()\n",
    "\n",
    "param = {'max_depth':11, 'eta':.1, 'silent':1, 'objective':'binary:logistic', 'num_class':1, 'nthread':-1}\n",
    "\n",
    "train_data = xgb.DMatrix(data=wined, label=winet)\n",
    "valid_data = xgb.DMatrix(data=wd_test, label=wt_test)\n",
    "\n",
    "watchlist = [(train_data, 'train'), (valid_data, 'valid_data')]\n",
    "model = xgb.train(dtrain=train_data, num_boost_round=2000, evals=watchlist, early_stopping_rounds=200, verbose_eval=500, params=param)\n",
    "y_pred = model.predict(valid_data, ntree_limit=model.best_ntree_limit)\n",
    "\n",
    "predictions = [round(value) for value in y_pred]\n",
    "accuracy = accuracy_score(wt_test, predictions)\n",
    "print(\"Accuracy: %.2f%%\" % (accuracy * 100.0))\n",
    "\n",
    "xgb.plot_importance(model)\n",
    "\n",
    "stop = datetime.now()\n",
    "execution_time = stop-start\n",
    "print(execution_time)"
   ]
  },
  {
   "cell_type": "markdown",
   "metadata": {},
   "source": [
    "YES! Lets see how the model does with CV."
   ]
  },
  {
   "cell_type": "code",
   "execution_count": 21,
   "metadata": {},
   "outputs": [
    {
     "name": "stdout",
     "output_type": "stream",
     "text": [
      "Accuracy: 69.02%\n",
      "0:00:12.471970\n"
     ]
    }
   ],
   "source": [
    "start = datetime.now()\n",
    "\n",
    "# load data\n",
    "X = winedata\n",
    "Y = winetarget\n",
    "\n",
    "# CV model\n",
    "model = xgb.XGBClassifier(max_depth=11, n_estimators=2000, learning_rate=0.02, objective='binary:logistic', n_jobs=-1)\n",
    "kfold = KFold(n_splits=3, random_state=7)\n",
    "results = cross_val_score(model, X, Y, cv=kfold)\n",
    "print(\"Accuracy: %.2f%%\" % (results.mean()*100))\n",
    "\n",
    "stop = datetime.now()\n",
    "execution_time = stop-start\n",
    "print(execution_time)"
   ]
  },
  {
   "cell_type": "markdown",
   "metadata": {},
   "source": [
    "Not that good huh? If you can't tell I'm not a huge fan of CV\n",
    "\n",
    "Ah well, Onto CCD!"
   ]
  },
  {
   "cell_type": "code",
   "execution_count": 22,
   "metadata": {},
   "outputs": [
    {
     "name": "stdout",
     "output_type": "stream",
     "text": [
      "[0]\ttrain-error:0.000424\tvalid_data-error:0.000511\n",
      "Multiple eval metrics have been passed: 'valid_data-error' will be used for early stopping.\n",
      "\n",
      "Will train until valid_data-error hasn't improved in 200 rounds.\n",
      "Stopping. Best iteration:\n",
      "[216]\ttrain-error:4.2e-05\tvalid_data-error:0.000298\n",
      "\n",
      "Accuracy: 99.97%\n",
      "0:00:41.909401\n"
     ]
    },
    {
     "data": {
      "image/png": "[encoded data removed]",
      "text/plain": [
       "<Figure size 432x288 with 1 Axes>"
      ]
     },
     "metadata": {
      "needs_background": "light"
     },
     "output_type": "display_data"
    }
   ],
   "source": [
    "start = datetime.now()\n",
    "\n",
    "param = {'max_depth':10, 'eta':.05, 'silent':1, 'objective':'binary:logistic', 'num_class':1, 'nthread':-1}\n",
    "\n",
    "train_data = xgb.DMatrix(data=ccd, label=cct)\n",
    "valid_data = xgb.DMatrix(data=ccd_test, label=cct_test)\n",
    "\n",
    "watchlist = [(train_data, 'train'), (valid_data, 'valid_data')]\n",
    "model = xgb.train(dtrain=train_data, num_boost_round=2000, evals=watchlist, early_stopping_rounds=200, verbose_eval=500, params=param)\n",
    "y_pred = model.predict(valid_data, ntree_limit=model.best_ntree_limit)\n",
    "\n",
    "predictions = [round(value) for value in y_pred]\n",
    "accuracy = accuracy_score(cct_test, predictions)\n",
    "print(\"Accuracy: %.2f%%\" % (accuracy * 100.0))\n",
    "\n",
    "xgb.plot_importance(model)\n",
    "\n",
    "stop = datetime.now()\n",
    "execution_time = stop-start\n",
    "print(execution_time)"
   ]
  },
  {
   "cell_type": "code",
   "execution_count": 23,
   "metadata": {},
   "outputs": [
    {
     "name": "stdout",
     "output_type": "stream",
     "text": [
      "Accuracy: 99.94%\n",
      "0:09:33.670888\n"
     ]
    }
   ],
   "source": [
    "start = datetime.now()\n",
    "\n",
    "X = ccdata\n",
    "Y = cctarget\n",
    "\n",
    "model = xgb.XGBClassifier(max_depth=10, n_estimators=2000, learning_rate=0.05, objective='binary:logistic', n_jobs=-1)\n",
    "kfold = KFold(n_splits=3, random_state=7)\n",
    "results = cross_val_score(model, X, Y, cv=kfold)\n",
    "print(\"Accuracy: %.2f%%\" % (results.mean()*100))\n",
    "\n",
    "stop = datetime.now()\n",
    "execution_time = stop-start\n",
    "print(execution_time)"
   ]
  },
  {
   "cell_type": "code",
   "execution_count": 24,
   "metadata": {},
   "outputs": [
    {
     "name": "stdout",
     "output_type": "stream",
     "text": [
      "[0]\ttrain-error:0.007854\tvalid_data-error:0.006692\n",
      "Multiple eval metrics have been passed: 'valid_data-error' will be used for early stopping.\n",
      "\n",
      "Will train until valid_data-error hasn't improved in 200 rounds.\n",
      "[500]\ttrain-error:0\tvalid_data-error:0.000585\n",
      "Stopping. Best iteration:\n",
      "[595]\ttrain-error:0\tvalid_data-error:0.000575\n",
      "\n",
      "Accuracy: 99.94%\n",
      "0:01:28.843393\n"
     ]
    },
    {
     "data": {
      "image/png": "[encoded data removed]",
      "text/plain": [
       "<Figure size 432x288 with 1 Axes>"
      ]
     },
     "metadata": {
      "needs_background": "light"
     },
     "output_type": "display_data"
    }
   ],
   "source": [
    "start = datetime.now()\n",
    "\n",
    "# Lets also do the SMOTE data to see the difference.\n",
    "param = {'max_depth':12, 'eta':.2, 'silent':1, 'objective':'binary:logistic', 'num_class':1, 'nthread':-1}\n",
    "\n",
    "train_data = xgb.DMatrix(data=ccd_SMOTE, label=cct_SMOTE)\n",
    "valid_data = xgb.DMatrix(data=ccd_test, label=cct_test)\n",
    "\n",
    "watchlist = [(train_data, 'train'), (valid_data, 'valid_data')]\n",
    "model = xgb.train(dtrain=train_data, num_boost_round=2000, evals=watchlist, early_stopping_rounds=200, verbose_eval=500, params=param)\n",
    "y_pred = model.predict(valid_data, ntree_limit=model.best_ntree_limit)\n",
    "\n",
    "predictions = [round(value) for value in y_pred]\n",
    "accuracy = accuracy_score(cct_test, predictions)\n",
    "print(\"Accuracy: %.2f%%\" % (accuracy * 100.0))\n",
    "\n",
    "xgb.plot_importance(model)\n",
    "\n",
    "stop = datetime.now()\n",
    "execution_time = stop-start\n",
    "print(execution_time)"
   ]
  },
  {
   "cell_type": "markdown",
   "metadata": {},
   "source": [
    "Interesting, So there are some big differences between SMOTE, non-SMOTE and CV methods!\n",
    "\n",
    "Lets see how our IMUSD does with XGBoost."
   ]
  },
  {
   "cell_type": "code",
   "execution_count": 25,
   "metadata": {
    "scrolled": false
   },
   "outputs": [
    {
     "name": "stdout",
     "output_type": "stream",
     "text": [
      "[0]\ttrain-merror:0.041244\tvalid_data-merror:0.691849\n",
      "Multiple eval metrics have been passed: 'valid_data-merror' will be used for early stopping.\n",
      "\n",
      "Will train until valid_data-merror hasn't improved in 200 rounds.\n",
      "Stopping. Best iteration:\n",
      "[30]\ttrain-merror:0.016882\tvalid_data-merror:0.676092\n",
      "\n",
      "Accuracy: 32.39%\n",
      "0:08:27.080975\n"
     ]
    },
    {
     "data": {
      "image/png": "[encoded data removed]",
      "text/plain": [
       "<Figure size 432x288 with 1 Axes>"
      ]
     },
     "metadata": {
      "needs_background": "light"
     },
     "output_type": "display_data"
    }
   ],
   "source": [
    "start = datetime.now()\n",
    "\n",
    "param = {'max_depth':11, 'eta':.03, 'silent':1, 'objective':'multi:softmax', 'num_class':9, 'nthread':-1}\n",
    "\n",
    "train_data = xgb.DMatrix(data=data, label=ltarget)\n",
    "valid_data = xgb.DMatrix(data=vdata, label=lvtarget)\n",
    "\n",
    "watchlist = [(train_data, 'train'), (valid_data, 'valid_data')]\n",
    "model = xgb.train(dtrain=train_data, num_boost_round=2000, evals=watchlist, early_stopping_rounds=200, verbose_eval=500, params=param)\n",
    "y_pred = model.predict(valid_data, ntree_limit=model.best_ntree_limit)\n",
    "\n",
    "predictions = [round(value) for value in y_pred]\n",
    "accuracy = accuracy_score(lvtarget, predictions)\n",
    "print(\"Accuracy: %.2f%%\" % (accuracy * 100.0))\n",
    "\n",
    "xgb.plot_importance(model)\n",
    "\n",
    "stop = datetime.now()\n",
    "execution_time = stop-start\n",
    "print(execution_time)"
   ]
  },
  {
   "cell_type": "code",
   "execution_count": 26,
   "metadata": {
    "scrolled": false
   },
   "outputs": [
    {
     "name": "stdout",
     "output_type": "stream",
     "text": [
      "Accuracy: 74.92%\n",
      "2:47:21.082386\n"
     ]
    }
   ],
   "source": [
    "start = datetime.now()\n",
    "\n",
    "X = wdata\n",
    "Y = wtarget\n",
    "\n",
    "model = xgb.XGBClassifier(max_depth=11, n_estimators=2000, learning_rate=0.03, objective='multi:softmax', num_class=9, n_jobs=-1)\n",
    "kfold = StratifiedKFold(n_splits=3, random_state=7)\n",
    "results = cross_val_score(model, X, Y, cv=kfold)\n",
    "print(\"Accuracy: %.2f%%\" % (results.mean()*100))\n",
    "\n",
    "stop = datetime.now()\n",
    "execution_time = stop-start\n",
    "print(execution_time)"
   ]
  },
  {
   "cell_type": "markdown",
   "metadata": {},
   "source": [
    "We are really not getting great results with IMUSD but that was expected. It takes a VERY specialized and fine tuned model that bootstraps 3-4 models and does complex analysis on the data. Our models are not near the actual best but still good. We can see the large difference between RandomForest and regular trees and Boosted trees. We could create a gridsearch and automate the parameter tuning but it will take a week of 24/7 training and we are only doing this for research!\n",
    "\n",
    "Thats it for this notebook! Thanks for reading, If you haven't already check out the other notebooks :)"
   ]
  }
 ],
 "metadata": {
  "kernelspec": {
   "display_name": "Python 3",
   "language": "python",
   "name": "python3"
  },
  "language_info": {
   "codemirror_mode": {
    "name": "ipython",
    "version": 3
   },
   "file_extension": ".py",
   "mimetype": "text/x-python",
   "name": "python",
   "nbconvert_exporter": "python",
   "pygments_lexer": "ipython3",
   "version": "3.6.8"
  }
 },
 "nbformat": 4,
 "nbformat_minor": 2
}
