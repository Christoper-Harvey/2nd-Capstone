{
 "cells": [
  {
   "cell_type": "markdown",
   "metadata": {},
   "source": [
    "I did not create these models. I did however want to spotlight some amazing models created by kaggle users.\n",
    "\n",
    "\n",
    "Thomas Rohwer https://www.kaggle.com/trohwer64/submission-fourier-neighbour-detection-svm\n",
    "\n",
    "\n",
    "Abdur Rafae https://www.kaggle.com/abdurrafae/using-group-id-s-the-right-way\n",
    "\n",
    "\n",
    "Prithvi https://www.kaggle.com/prith189/starter-code-for-3rd-place-solution\n",
    "\n",
    "\n",
    "Pedro Jofre Lora https://www.kaggle.com/pjofrelora/hybrid-classifier-solution-11th-place\n",
    "\n",
    "\n",
    "Rajanikant Tenguria https://www.kaggle.com/algorrt/highest-scoring-public-kernel-starter-sol-29\n",
    "\n"
   ]
  },
  {
   "cell_type": "markdown",
   "metadata": {},
   "source": []
  },
  {
   "cell_type": "markdown",
   "metadata": {},
   "source": []
  },
  {
   "cell_type": "code",
   "execution_count": null,
   "metadata": {},
   "outputs": [],
   "source": []
  },
  {
   "cell_type": "code",
   "execution_count": null,
   "metadata": {},
   "outputs": [],
   "source": []
  },
  {
   "cell_type": "code",
   "execution_count": null,
   "metadata": {},
   "outputs": [],
   "source": []
  }
 ],
 "metadata": {
  "kernelspec": {
   "display_name": "Python 3",
   "language": "python",
   "name": "python3"
  },
  "language_info": {
   "codemirror_mode": {
    "name": "ipython",
    "version": 3
   },
   "file_extension": ".py",
   "mimetype": "text/x-python",
   "name": "python",
   "nbconvert_exporter": "python",
   "pygments_lexer": "ipython3",
   "version": "3.6.8"
  }
 },
 "nbformat": 4,
 "nbformat_minor": 2
}
