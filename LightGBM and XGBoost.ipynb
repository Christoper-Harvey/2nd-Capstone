{
 "cells": [
  {
   "cell_type": "code",
   "execution_count": 1,
   "metadata": {},
   "outputs": [],
   "source": [
    "import numpy as np\n",
    "import pandas as pd\n",
    "import os\n",
    "import matplotlib.pyplot as plt\n",
    "%matplotlib inline\n",
    "\n",
    "\n",
    "from sklearn.preprocessing import StandardScaler\n",
    "from sklearn.metrics import accuracy_score, confusion_matrix\n",
    "from sklearn.model_selection import KFold, cross_val_score\n",
    "from sklearn.model_selection import StratifiedKFold, KFold, train_test_split, GroupKFold, GroupShuffleSplit\n",
    "from sklearn.metrics import *\n",
    "import gc\n",
    "pd.options.display.precision = 15\n",
    "\n",
    "import lightgbm as lgb\n",
    "import xgboost as xgb\n",
    "import time\n",
    "import datetime\n",
    "\n",
    "import warnings\n",
    "warnings.filterwarnings(\"ignore\")\n",
    "\n",
    "from IPython.display import HTML"
   ]
  },
  {
   "cell_type": "code",
   "execution_count": 2,
   "metadata": {},
   "outputs": [
    {
     "name": "stdout",
     "output_type": "stream",
     "text": [
      "Data is ready!\n"
     ]
    }
   ],
   "source": [
    "# Lets import our data\n",
    "target = pd.read_csv('target.csv')\n",
    "data = pd.read_csv('data.csv')\n",
    "test = pd.read_csv('test.csv')\n",
    "vdata = pd.read_csv('vdata.csv')\n",
    "vtarget = pd.read_csv('vtarget.csv')\n",
    "ltarget = pd.read_csv('ltarget.csv', header=None)\n",
    "lvtarget = pd.read_csv('lvtarget.csv', header=None)\n",
    "wdata = pd.read_csv('whole_data.csv')\n",
    "wtarget = pd.read_csv('whole_target.csv', header=None)\n",
    "\n",
    "winedata = pd.read_csv('winedata.csv')\n",
    "\n",
    "ccdata = pd.read_csv('creditcard.csv')\n",
    "\n",
    "irisdata = pd.read_csv('irisdata.csv')\n",
    "iristarget = pd.read_csv('iristarget.csv')\n",
    "\n",
    "print('Data is ready!')"
   ]
  },
  {
   "cell_type": "code",
   "execution_count": 3,
   "metadata": {},
   "outputs": [],
   "source": [
    "# Because XGBoost uses a .split() command we will get rid of any whitespace in our column names.\n",
    "winedata.columns = ['fixed_acidity','volatile_acidity','citric_acid','residual_sugar','chlorides','free_sulfur_dioxide','total_sulfur_dioxide','density','pH','sulphates','alcohol', 'quality']\n",
    "irisdata.columns = ['sepal_length_(cm)','sepal_width_(cm)','petal_length_(cm)','petal_width_(cm)']"
   ]
  },
  {
   "cell_type": "code",
   "execution_count": 4,
   "metadata": {},
   "outputs": [],
   "source": [
    "# Lets go ahead and set up our data. First lets make our target and drop it from wine.\n",
    "winetarget = winedata['quality']\n",
    "winedata = winedata.drop('quality', axis=1)\n",
    "\n",
    "# Lets trim off time and amount from ccdata as those are independent features we don't want the model to learn.\n",
    "cctarget = ccdata['Class']\n",
    "ccdata = ccdata.drop(['Time','Amount', 'Class'], axis=1)\n",
    "\n",
    "iristarget = iristarget['target']\n",
    "\n",
    "target = target['surface']\n",
    "vtarget = vtarget['surface']\n",
    "ltarget = ltarget[0]\n",
    "lvtarget = lvtarget[0]\n",
    "wdata = wdata.drop(['series_id', 'group_id', 'surface'], axis=1)\n",
    "wtarget = wtarget[0]\n",
    "\n",
    "irisd, id_test, irist, it_test = train_test_split(irisdata, iristarget, test_size=0.33, random_state=42)\n",
    "wined, wd_test, winet, wt_test = train_test_split(winedata, winetarget, test_size=0.33, random_state=42)\n",
    "ccd, ccd_test, cct, cct_test = train_test_split(ccdata, cctarget, test_size=0.33, random_state=42)"
   ]
  },
  {
   "cell_type": "code",
   "execution_count": 5,
   "metadata": {
    "scrolled": true
   },
   "outputs": [
    {
     "name": "stdout",
     "output_type": "stream",
     "text": [
      "(150, 4)\n",
      "(150,)\n",
      "(6497, 11)\n",
      "(6497,)\n",
      "(284807, 28)\n",
      "(284807,)\n",
      "(2804,)\n",
      "(1006,)\n",
      "(358912,)\n",
      "(128768,)\n",
      "(487680,)\n",
      "(487680, 23)\n",
      "(128768, 23)\n",
      "(358912, 23)\n"
     ]
    },
    {
     "data": {
      "text/plain": [
       "(488448, 23)"
      ]
     },
     "execution_count": 5,
     "metadata": {},
     "output_type": "execute_result"
    }
   ],
   "source": [
    "# Now lets make sure our train and target variables are even for every dataset\n",
    "print(irisdata.shape)\n",
    "print(iristarget.shape)\n",
    "\n",
    "print(winedata.shape)\n",
    "print(winetarget.shape)\n",
    "\n",
    "print(ccdata.shape)\n",
    "print(cctarget.shape)\n",
    "\n",
    "print(target.shape)\n",
    "print(vtarget.shape)\n",
    "print(ltarget.shape)\n",
    "print(lvtarget.shape)\n",
    "print(wtarget.shape)\n",
    "print(wdata.shape)\n",
    "print(vdata.shape)\n",
    "print(data.shape)\n",
    "test.shape"
   ]
  },
  {
   "cell_type": "code",
   "execution_count": 6,
   "metadata": {},
   "outputs": [],
   "source": [
    "# Just like in our other notebooks we are going to SMOTE the ccdata\n",
    "from imblearn.over_sampling import SMOTE\n",
    "sm = SMOTE(sampling_strategy=0.5, random_state=2)\n",
    "\n",
    "ccd_SMOTE, cct_SMOTE = sm.fit_resample(ccd,cct)\n",
    "\n",
    "ccd_SMOTE = pd.DataFrame(ccd_SMOTE, columns=ccd.columns)"
   ]
  },
  {
   "cell_type": "code",
   "execution_count": 7,
   "metadata": {},
   "outputs": [
    {
     "name": "stdout",
     "output_type": "stream",
     "text": [
      "190820\n"
     ]
    },
    {
     "data": {
      "text/plain": [
       "285715"
      ]
     },
     "execution_count": 7,
     "metadata": {},
     "output_type": "execute_result"
    }
   ],
   "source": [
    "# Lets see how many new minority samples there are.\n",
    "print(len(cct))\n",
    "len(cct_SMOTE)"
   ]
  },
  {
   "cell_type": "markdown",
   "metadata": {},
   "source": [
    "In this notebook we will try both LightGBM and XGBoost. If you are new to machine learning and did not read my 'Standard SKLearn' notebook I would encourage you to do so. It covers more of the basics and has some great learning resources!\n",
    "\n",
    "XGBoost is a boosting machine, The love child of kagglers everywhere! It is an incredibly powerful algorithm for learning just about anything. It is easy to set up and run but tuning is a nightmare! It has a strong learning curve but it is very worth the effort to learn. I linked an article below about how to tune XGBoost, Give it a read!\n",
    "\n",
    "LightGBM is gradient boosting machine. You might ask what is the difference? Good question! One is much, much faster on big data. They both are awful to tune though. Again I linked the tuning guides below!\n",
    "\n",
    "Here is a great article about the differences and the history of the two models.\n",
    "\n",
    "https://www.analyticsvidhya.com/blog/2017/06/which-algorithm-takes-the-crown-light-gbm-vs-xgboost/\n",
    "\n",
    "Below are the docs for both as well as some introductionary tutorials.\n",
    "\n",
    "https://lightgbm.readthedocs.io/en/latest/Python-Intro.html\n",
    "\n",
    "https://xgboost.readthedocs.io/en/latest/\n",
    "\n",
    "https://www.kaggle.com/pintu161/implementation-of-lightgbm-for-begineers\n",
    "\n",
    "https://www.analyticsvidhya.com/blog/2016/02/complete-guide-parameter-tuning-gradient-boosting-gbm-python/\n",
    "\n",
    "https://xgboost.readthedocs.io/en/latest/tutorials/model.html\n",
    "\n",
    "https://www.analyticsvidhya.com/blog/2016/03/complete-guide-parameter-tuning-xgboost-with-codes-python/\n",
    "\n",
    "https://towardsdatascience.com/interpretable-machine-learning-with-xgboost-9ec80d148d27"
   ]
  },
  {
   "cell_type": "code",
   "execution_count": 8,
   "metadata": {},
   "outputs": [
    {
     "data": {
      "text/plain": [
       "datetime.timedelta(0)"
      ]
     },
     "execution_count": 8,
     "metadata": {},
     "output_type": "execute_result"
    }
   ],
   "source": [
    "# Lets time our models for fun.\n",
    "from datetime import datetime \n",
    "# Put this above the code.\n",
    "start = datetime.now()\n",
    "\n",
    "# Put this below.\n",
    "stop = datetime.now()\n",
    "execution_time = stop-start\n",
    "execution_time"
   ]
  },
  {
   "cell_type": "markdown",
   "metadata": {},
   "source": [
    "We will start with LightGBM. This is a great tool for large databases.\n",
    "\n",
    "Lets start things off with the same order we used in SKLearn. Iris, Wine, CCD, IMUSD.\n",
    "\n",
    "We are going to do both regular Cross-Validation and fixed set validation."
   ]
  },
  {
   "cell_type": "code",
   "execution_count": 14,
   "metadata": {},
   "outputs": [
    {
     "ename": "LightGBMError",
     "evalue": "Multiclass objective and metrics don't match",
     "output_type": "error",
     "traceback": [
      "\u001b[1;31m---------------------------------------------------------------------------\u001b[0m",
      "\u001b[1;31mLightGBMError\u001b[0m                             Traceback (most recent call last)",
      "\u001b[1;32m<ipython-input-14-deae44bff467>\u001b[0m in \u001b[0;36m<module>\u001b[1;34m\u001b[0m\n\u001b[0;32m     14\u001b[0m \u001b[1;33m\u001b[0m\u001b[0m\n\u001b[0;32m     15\u001b[0m \u001b[1;31m# The training command and testing\u001b[0m\u001b[1;33m\u001b[0m\u001b[1;33m\u001b[0m\u001b[1;33m\u001b[0m\u001b[0m\n\u001b[1;32m---> 16\u001b[1;33m \u001b[0mlgbm\u001b[0m\u001b[1;33m=\u001b[0m\u001b[0mlgb\u001b[0m\u001b[1;33m.\u001b[0m\u001b[0mtrain\u001b[0m\u001b[1;33m(\u001b[0m\u001b[0mparam\u001b[0m\u001b[1;33m,\u001b[0m\u001b[0mtrain_data\u001b[0m\u001b[1;33m,\u001b[0m\u001b[0mnum_round\u001b[0m\u001b[1;33m)\u001b[0m\u001b[1;33m\u001b[0m\u001b[1;33m\u001b[0m\u001b[0m\n\u001b[0m\u001b[0;32m     17\u001b[0m \u001b[0my_pred\u001b[0m\u001b[1;33m=\u001b[0m\u001b[0mlgbm\u001b[0m\u001b[1;33m.\u001b[0m\u001b[0mpredict\u001b[0m\u001b[1;33m(\u001b[0m\u001b[0mid_test\u001b[0m\u001b[1;33m)\u001b[0m\u001b[1;33m\u001b[0m\u001b[1;33m\u001b[0m\u001b[0m\n\u001b[0;32m     18\u001b[0m \u001b[1;33m\u001b[0m\u001b[0m\n",
      "\u001b[1;32mc:\\users\\doomb\\anaconda3\\envs\\capstone2\\lib\\site-packages\\lightgbm\\engine.py\u001b[0m in \u001b[0;36mtrain\u001b[1;34m(params, train_set, num_boost_round, valid_sets, valid_names, fobj, feval, init_model, feature_name, categorical_feature, early_stopping_rounds, evals_result, verbose_eval, learning_rates, keep_training_booster, callbacks)\u001b[0m\n\u001b[0;32m    195\u001b[0m     \u001b[1;31m# construct booster\u001b[0m\u001b[1;33m\u001b[0m\u001b[1;33m\u001b[0m\u001b[1;33m\u001b[0m\u001b[0m\n\u001b[0;32m    196\u001b[0m     \u001b[1;32mtry\u001b[0m\u001b[1;33m:\u001b[0m\u001b[1;33m\u001b[0m\u001b[1;33m\u001b[0m\u001b[0m\n\u001b[1;32m--> 197\u001b[1;33m         \u001b[0mbooster\u001b[0m \u001b[1;33m=\u001b[0m \u001b[0mBooster\u001b[0m\u001b[1;33m(\u001b[0m\u001b[0mparams\u001b[0m\u001b[1;33m=\u001b[0m\u001b[0mparams\u001b[0m\u001b[1;33m,\u001b[0m \u001b[0mtrain_set\u001b[0m\u001b[1;33m=\u001b[0m\u001b[0mtrain_set\u001b[0m\u001b[1;33m)\u001b[0m\u001b[1;33m\u001b[0m\u001b[1;33m\u001b[0m\u001b[0m\n\u001b[0m\u001b[0;32m    198\u001b[0m         \u001b[1;32mif\u001b[0m \u001b[0mis_valid_contain_train\u001b[0m\u001b[1;33m:\u001b[0m\u001b[1;33m\u001b[0m\u001b[1;33m\u001b[0m\u001b[0m\n\u001b[0;32m    199\u001b[0m             \u001b[0mbooster\u001b[0m\u001b[1;33m.\u001b[0m\u001b[0mset_train_data_name\u001b[0m\u001b[1;33m(\u001b[0m\u001b[0mtrain_data_name\u001b[0m\u001b[1;33m)\u001b[0m\u001b[1;33m\u001b[0m\u001b[1;33m\u001b[0m\u001b[0m\n",
      "\u001b[1;32mc:\\users\\doomb\\anaconda3\\envs\\capstone2\\lib\\site-packages\\lightgbm\\basic.py\u001b[0m in \u001b[0;36m__init__\u001b[1;34m(self, params, train_set, model_file, silent)\u001b[0m\n\u001b[0;32m   1550\u001b[0m             \u001b[0mself\u001b[0m\u001b[1;33m.\u001b[0m\u001b[0mhandle\u001b[0m \u001b[1;33m=\u001b[0m \u001b[0mctypes\u001b[0m\u001b[1;33m.\u001b[0m\u001b[0mc_void_p\u001b[0m\u001b[1;33m(\u001b[0m\u001b[1;33m)\u001b[0m\u001b[1;33m\u001b[0m\u001b[1;33m\u001b[0m\u001b[0m\n\u001b[0;32m   1551\u001b[0m             _safe_call(_LIB.LGBM_BoosterCreate(\n\u001b[1;32m-> 1552\u001b[1;33m                 \u001b[0mtrain_set\u001b[0m\u001b[1;33m.\u001b[0m\u001b[0mconstruct\u001b[0m\u001b[1;33m(\u001b[0m\u001b[1;33m)\u001b[0m\u001b[1;33m.\u001b[0m\u001b[0mhandle\u001b[0m\u001b[1;33m,\u001b[0m\u001b[1;33m\u001b[0m\u001b[1;33m\u001b[0m\u001b[0m\n\u001b[0m\u001b[0;32m   1553\u001b[0m                 \u001b[0mc_str\u001b[0m\u001b[1;33m(\u001b[0m\u001b[0mparams_str\u001b[0m\u001b[1;33m)\u001b[0m\u001b[1;33m,\u001b[0m\u001b[1;33m\u001b[0m\u001b[1;33m\u001b[0m\u001b[0m\n\u001b[0;32m   1554\u001b[0m                 ctypes.byref(self.handle)))\n",
      "\u001b[1;32mc:\\users\\doomb\\anaconda3\\envs\\capstone2\\lib\\site-packages\\lightgbm\\basic.py\u001b[0m in \u001b[0;36mconstruct\u001b[1;34m(self)\u001b[0m\n\u001b[0;32m    999\u001b[0m                                 \u001b[0minit_score\u001b[0m\u001b[1;33m=\u001b[0m\u001b[0mself\u001b[0m\u001b[1;33m.\u001b[0m\u001b[0minit_score\u001b[0m\u001b[1;33m,\u001b[0m \u001b[0mpredictor\u001b[0m\u001b[1;33m=\u001b[0m\u001b[0mself\u001b[0m\u001b[1;33m.\u001b[0m\u001b[0m_predictor\u001b[0m\u001b[1;33m,\u001b[0m\u001b[1;33m\u001b[0m\u001b[1;33m\u001b[0m\u001b[0m\n\u001b[0;32m   1000\u001b[0m                                 \u001b[0msilent\u001b[0m\u001b[1;33m=\u001b[0m\u001b[0mself\u001b[0m\u001b[1;33m.\u001b[0m\u001b[0msilent\u001b[0m\u001b[1;33m,\u001b[0m \u001b[0mfeature_name\u001b[0m\u001b[1;33m=\u001b[0m\u001b[0mself\u001b[0m\u001b[1;33m.\u001b[0m\u001b[0mfeature_name\u001b[0m\u001b[1;33m,\u001b[0m\u001b[1;33m\u001b[0m\u001b[1;33m\u001b[0m\u001b[0m\n\u001b[1;32m-> 1001\u001b[1;33m                                 categorical_feature=self.categorical_feature, params=self.params)\n\u001b[0m\u001b[0;32m   1002\u001b[0m             \u001b[1;32mif\u001b[0m \u001b[0mself\u001b[0m\u001b[1;33m.\u001b[0m\u001b[0mfree_raw_data\u001b[0m\u001b[1;33m:\u001b[0m\u001b[1;33m\u001b[0m\u001b[1;33m\u001b[0m\u001b[0m\n\u001b[0;32m   1003\u001b[0m                 \u001b[0mself\u001b[0m\u001b[1;33m.\u001b[0m\u001b[0mdata\u001b[0m \u001b[1;33m=\u001b[0m \u001b[1;32mNone\u001b[0m\u001b[1;33m\u001b[0m\u001b[1;33m\u001b[0m\u001b[0m\n",
      "\u001b[1;32mc:\\users\\doomb\\anaconda3\\envs\\capstone2\\lib\\site-packages\\lightgbm\\basic.py\u001b[0m in \u001b[0;36m_lazy_init\u001b[1;34m(self, data, label, reference, weight, group, init_score, predictor, silent, feature_name, categorical_feature, params)\u001b[0m\n\u001b[0;32m    789\u001b[0m             \u001b[0mself\u001b[0m\u001b[1;33m.\u001b[0m\u001b[0m__init_from_csc\u001b[0m\u001b[1;33m(\u001b[0m\u001b[0mdata\u001b[0m\u001b[1;33m,\u001b[0m \u001b[0mparams_str\u001b[0m\u001b[1;33m,\u001b[0m \u001b[0mref_dataset\u001b[0m\u001b[1;33m)\u001b[0m\u001b[1;33m\u001b[0m\u001b[1;33m\u001b[0m\u001b[0m\n\u001b[0;32m    790\u001b[0m         \u001b[1;32melif\u001b[0m \u001b[0misinstance\u001b[0m\u001b[1;33m(\u001b[0m\u001b[0mdata\u001b[0m\u001b[1;33m,\u001b[0m \u001b[0mnp\u001b[0m\u001b[1;33m.\u001b[0m\u001b[0mndarray\u001b[0m\u001b[1;33m)\u001b[0m\u001b[1;33m:\u001b[0m\u001b[1;33m\u001b[0m\u001b[1;33m\u001b[0m\u001b[0m\n\u001b[1;32m--> 791\u001b[1;33m             \u001b[0mself\u001b[0m\u001b[1;33m.\u001b[0m\u001b[0m__init_from_np2d\u001b[0m\u001b[1;33m(\u001b[0m\u001b[0mdata\u001b[0m\u001b[1;33m,\u001b[0m \u001b[0mparams_str\u001b[0m\u001b[1;33m,\u001b[0m \u001b[0mref_dataset\u001b[0m\u001b[1;33m)\u001b[0m\u001b[1;33m\u001b[0m\u001b[1;33m\u001b[0m\u001b[0m\n\u001b[0m\u001b[0;32m    792\u001b[0m         \u001b[1;32melif\u001b[0m \u001b[0misinstance\u001b[0m\u001b[1;33m(\u001b[0m\u001b[0mdata\u001b[0m\u001b[1;33m,\u001b[0m \u001b[0mlist\u001b[0m\u001b[1;33m)\u001b[0m \u001b[1;32mand\u001b[0m \u001b[0mlen\u001b[0m\u001b[1;33m(\u001b[0m\u001b[0mdata\u001b[0m\u001b[1;33m)\u001b[0m \u001b[1;33m>\u001b[0m \u001b[1;36m0\u001b[0m \u001b[1;32mand\u001b[0m \u001b[0mall\u001b[0m\u001b[1;33m(\u001b[0m\u001b[0misinstance\u001b[0m\u001b[1;33m(\u001b[0m\u001b[0mx\u001b[0m\u001b[1;33m,\u001b[0m \u001b[0mnp\u001b[0m\u001b[1;33m.\u001b[0m\u001b[0mndarray\u001b[0m\u001b[1;33m)\u001b[0m \u001b[1;32mfor\u001b[0m \u001b[0mx\u001b[0m \u001b[1;32min\u001b[0m \u001b[0mdata\u001b[0m\u001b[1;33m)\u001b[0m\u001b[1;33m:\u001b[0m\u001b[1;33m\u001b[0m\u001b[1;33m\u001b[0m\u001b[0m\n\u001b[0;32m    793\u001b[0m             \u001b[0mself\u001b[0m\u001b[1;33m.\u001b[0m\u001b[0m__init_from_list_np2d\u001b[0m\u001b[1;33m(\u001b[0m\u001b[0mdata\u001b[0m\u001b[1;33m,\u001b[0m \u001b[0mparams_str\u001b[0m\u001b[1;33m,\u001b[0m \u001b[0mref_dataset\u001b[0m\u001b[1;33m)\u001b[0m\u001b[1;33m\u001b[0m\u001b[1;33m\u001b[0m\u001b[0m\n",
      "\u001b[1;32mc:\\users\\doomb\\anaconda3\\envs\\capstone2\\lib\\site-packages\\lightgbm\\basic.py\u001b[0m in \u001b[0;36m__init_from_np2d\u001b[1;34m(self, mat, params_str, ref_dataset)\u001b[0m\n\u001b[0;32m    853\u001b[0m             \u001b[0mc_str\u001b[0m\u001b[1;33m(\u001b[0m\u001b[0mparams_str\u001b[0m\u001b[1;33m)\u001b[0m\u001b[1;33m,\u001b[0m\u001b[1;33m\u001b[0m\u001b[1;33m\u001b[0m\u001b[0m\n\u001b[0;32m    854\u001b[0m             \u001b[0mref_dataset\u001b[0m\u001b[1;33m,\u001b[0m\u001b[1;33m\u001b[0m\u001b[1;33m\u001b[0m\u001b[0m\n\u001b[1;32m--> 855\u001b[1;33m             ctypes.byref(self.handle)))\n\u001b[0m\u001b[0;32m    856\u001b[0m         \u001b[1;32mreturn\u001b[0m \u001b[0mself\u001b[0m\u001b[1;33m\u001b[0m\u001b[1;33m\u001b[0m\u001b[0m\n\u001b[0;32m    857\u001b[0m \u001b[1;33m\u001b[0m\u001b[0m\n",
      "\u001b[1;32mc:\\users\\doomb\\anaconda3\\envs\\capstone2\\lib\\site-packages\\lightgbm\\basic.py\u001b[0m in \u001b[0;36m_safe_call\u001b[1;34m(ret)\u001b[0m\n\u001b[0;32m     44\u001b[0m     \"\"\"\n\u001b[0;32m     45\u001b[0m     \u001b[1;32mif\u001b[0m \u001b[0mret\u001b[0m \u001b[1;33m!=\u001b[0m \u001b[1;36m0\u001b[0m\u001b[1;33m:\u001b[0m\u001b[1;33m\u001b[0m\u001b[1;33m\u001b[0m\u001b[0m\n\u001b[1;32m---> 46\u001b[1;33m         \u001b[1;32mraise\u001b[0m \u001b[0mLightGBMError\u001b[0m\u001b[1;33m(\u001b[0m\u001b[0mdecode_string\u001b[0m\u001b[1;33m(\u001b[0m\u001b[0m_LIB\u001b[0m\u001b[1;33m.\u001b[0m\u001b[0mLGBM_GetLastError\u001b[0m\u001b[1;33m(\u001b[0m\u001b[1;33m)\u001b[0m\u001b[1;33m)\u001b[0m\u001b[1;33m)\u001b[0m\u001b[1;33m\u001b[0m\u001b[1;33m\u001b[0m\u001b[0m\n\u001b[0m\u001b[0;32m     47\u001b[0m \u001b[1;33m\u001b[0m\u001b[0m\n\u001b[0;32m     48\u001b[0m \u001b[1;33m\u001b[0m\u001b[0m\n",
      "\u001b[1;31mLightGBMError\u001b[0m: Multiclass objective and metrics don't match"
     ]
    }
   ],
   "source": [
    "# This will be a fixed set validation model. The next model will use CV.\n",
    "\n",
    "# For keeping time\n",
    "start = datetime.now()\n",
    "# Loading our data as a custom LGM dataset.\n",
    "train_data=lgb.Dataset(irisd,label=irist)\n",
    "\n",
    "# Our model's parameters.\n",
    "param = {'objective':\"multiclass\", 'metric':[\"multi_logloss\",'auc'], 'num_class':3}\n",
    "# param['metric'] = ['auc', 'multi_logloss']\n",
    "\n",
    "# The amount of trees we will explore.\n",
    "num_round=50\n",
    "\n",
    "# The training command and testing\n",
    "lgbm=lgb.train(param,train_data,num_round)\n",
    "y_pred=lgbm.predict(id_test)\n",
    "\n",
    "# This tells us how well our model is doing.\n",
    "predictions = [round(value) for value in y_pred]\n",
    "accuracy = accuracy_score(it_test, predictions)\n",
    "print(\"Accuracy: %.2f%%\" % (accuracy * 100.0))\n",
    "\n",
    "stop = datetime.now()\n",
    "execution_time = stop-start\n",
    "print(execution_time)\n",
    "# datetime.timedelta( , , ) representation => (days , seconds , microseconds)"
   ]
  },
  {
   "cell_type": "code",
   "execution_count": 18,
   "metadata": {
    "scrolled": false
   },
   "outputs": [
    {
     "name": "stdout",
     "output_type": "stream",
     "text": [
      "Accuracy: 96.17%\n",
      "0:00:08.679766\n"
     ]
    }
   ],
   "source": [
    "# This is our first CV model, I'll keep the formatting of both for future models.\n",
    "\n",
    "start = datetime.now()\n",
    "# The number of CV folds we want to do.\n",
    "kfold = StratifiedKFold(n_splits=3, shuffle=True, random_state=11)\n",
    "\n",
    "# These are our model's hyperparameters which we will tune by hand to give us the best model we get get!\n",
    "params = {'num_leaves': 123,\n",
    "          'min_data_in_leaf': 12,\n",
    "          'objective': 'binary',\n",
    "          'max_depth': 22,\n",
    "          'learning_rate': 0.04680350949723872,\n",
    "          \"boosting\": \"gbdt\",\n",
    "          \"bagging_freq\": 5,\n",
    "          \"bagging_fraction\": 0.8933018355190274,\n",
    "          \"bagging_seed\": 11,\n",
    "          \"verbosity\": -1,\n",
    "          'reg_alpha': 0.9498109326932401,\n",
    "          'reg_lambda': 0.8058490960546196,\n",
    "          \"num_class\": 9,\n",
    "          'nthread': -1,\n",
    "          'min_split_gain': 0.009913227240564853,\n",
    "          'subsample': 0.9027358830703129\n",
    "         }\n",
    "\n",
    "# Our data, this time not as a custom dataset.\n",
    "X = data\n",
    "Y = ltarget\n",
    "\n",
    "# Our model\n",
    "model = lgb.LGBMClassifier(**params, n_estimators = 20, n_jobs = -1)\n",
    "\n",
    "# This trains our model then tells us how well it is doing.\n",
    "results = cross_val_score(model, X, Y, cv=kfold)\n",
    "print(\"Accuracy: %.2f%%\" % (results.mean()*100))\n",
    "\n",
    "stop = datetime.now()\n",
    "execution_time = stop-start\n",
    "print(execution_time)"
   ]
  },
  {
   "cell_type": "code",
   "execution_count": null,
   "metadata": {},
   "outputs": [],
   "source": [
    "\n",
    "start = datetime.now()\n",
    "\n",
    "train_data=lgb.Dataset(ccd,label=cct)\n",
    "\n",
    "param = {'num_leaves':150, 'objective':'binary','max_depth':7,'learning_rate':.05,'max_bin':200}\n",
    "param['metric'] = ['auc', 'binary_logloss']\n",
    "\n",
    "num_round=50\n",
    "\n",
    "lgbm=lgb.train(param,train_data,num_round)\n",
    "y_pred=lgbm.predict(ccd_test)\n",
    "\n",
    "predictions = [round(value) for value in y_pred]\n",
    "accuracy = accuracy_score(cct_test, predictions)\n",
    "print(\"Accuracy: %.2f%%\" % (accuracy * 100.0))\n",
    "\n",
    "stop = datetime.now()\n",
    "execution_time = stop-start\n",
    "print(execution_time)"
   ]
  },
  {
   "cell_type": "code",
   "execution_count": null,
   "metadata": {},
   "outputs": [],
   "source": [
    "start = datetime.now()\n",
    "\n",
    "kfold = StratifiedKFold(n_splits=3, shuffle=True, random_state=11)\n",
    "\n",
    "params = {'num_leaves': 123,\n",
    "          'min_data_in_leaf': 12,\n",
    "          'objective': 'binary',\n",
    "          'max_depth': 22,\n",
    "          'learning_rate': 0.04680350949723872,\n",
    "          \"boosting\": \"gbdt\",\n",
    "          \"bagging_freq\": 5,\n",
    "          \"bagging_fraction\": 0.8933018355190274,\n",
    "          \"bagging_seed\": 11,\n",
    "          \"verbosity\": -1,\n",
    "          'reg_alpha': 0.9498109326932401,\n",
    "          'reg_lambda': 0.8058490960546196,\n",
    "          \"num_class\": 9,\n",
    "          'nthread': -1,\n",
    "          'min_split_gain': 0.009913227240564853,\n",
    "          'subsample': 0.9027358830703129\n",
    "         }\n",
    "\n",
    "X = data\n",
    "Y = ltarget\n",
    "\n",
    "model = lgb.LGBMClassifier(**params, n_estimators = 20, n_jobs = -1)\n",
    "\n",
    "results = cross_val_score(model, X, Y, cv=kfold)\n",
    "print(\"Accuracy: %.2f%%\" % (results.mean()*100))\n",
    "\n",
    "stop = datetime.now()\n",
    "execution_time = stop-start\n",
    "print(execution_time)"
   ]
  },
  {
   "cell_type": "code",
   "execution_count": null,
   "metadata": {},
   "outputs": [],
   "source": [
    "start = datetime.now()\n",
    "\n",
    "train_data=lgb.Dataset(ccd,label=cct)\n",
    "\n",
    "param = {'num_leaves':150, 'objective':'binary','max_depth':7,'learning_rate':.05,'max_bin':200}\n",
    "param['metric'] = ['auc', 'binary_logloss']\n",
    "\n",
    "num_round=50\n",
    "\n",
    "lgbm=lgb.train(param,train_data,num_round)\n",
    "y_pred=lgbm.predict(ccd_test)\n",
    "\n",
    "predictions = [round(value) for value in y_pred]\n",
    "accuracy = accuracy_score(cct_test, predictions)\n",
    "print(\"Accuracy: %.2f%%\" % (accuracy * 100.0))\n",
    "\n",
    "stop = datetime.now()\n",
    "execution_time = stop-start\n",
    "print(execution_time)"
   ]
  },
  {
   "cell_type": "code",
   "execution_count": null,
   "metadata": {},
   "outputs": [],
   "source": [
    "start = datetime.now()\n",
    "\n",
    "kfold = StratifiedKFold(n_splits=3, shuffle=True, random_state=11)\n",
    "\n",
    "params = {'num_leaves': 123,\n",
    "          'min_data_in_leaf': 12,\n",
    "          'objective': 'binary',\n",
    "          'max_depth': 22,\n",
    "          'learning_rate': 0.04680350949723872,\n",
    "          \"boosting\": \"gbdt\",\n",
    "          \"bagging_freq\": 5,\n",
    "          \"bagging_fraction\": 0.8933018355190274,\n",
    "          \"bagging_seed\": 11,\n",
    "          \"verbosity\": -1,\n",
    "          'reg_alpha': 0.9498109326932401,\n",
    "          'reg_lambda': 0.8058490960546196,\n",
    "          \"num_class\": 9,\n",
    "          'nthread': -1,\n",
    "          'min_split_gain': 0.009913227240564853,\n",
    "          'subsample': 0.9027358830703129\n",
    "         }\n",
    "\n",
    "X = data\n",
    "Y = ltarget\n",
    "\n",
    "model = lgb.LGBMClassifier(**params, n_estimators = 20, n_jobs = -1)\n",
    "\n",
    "results = cross_val_score(model, X, Y, cv=kfold)\n",
    "print(\"Accuracy: %.2f%%\" % (results.mean()*100))\n",
    "\n",
    "stop = datetime.now()\n",
    "execution_time = stop-start\n",
    "print(execution_time)"
   ]
  },
  {
   "cell_type": "code",
   "execution_count": null,
   "metadata": {},
   "outputs": [],
   "source": [
    "start = datetime.now()\n",
    "\n",
    "train_data=lgb.Dataset(ccd,label=cct)\n",
    "\n",
    "param = {'num_leaves':150, 'objective':'binary','max_depth':7,'learning_rate':.05,'max_bin':200}\n",
    "param['metric'] = ['auc', 'binary_logloss']\n",
    "\n",
    "num_round=50\n",
    "\n",
    "lgbm=lgb.train(param,train_data,num_round)\n",
    "y_pred=lgbm.predict(ccd_test)\n",
    "\n",
    "predictions = [round(value) for value in y_pred]\n",
    "accuracy = accuracy_score(cct_test, predictions)\n",
    "print(\"Accuracy: %.2f%%\" % (accuracy * 100.0))\n",
    "\n",
    "stop = datetime.now()\n",
    "execution_time = stop-start\n",
    "print(execution_time)"
   ]
  },
  {
   "cell_type": "code",
   "execution_count": null,
   "metadata": {},
   "outputs": [],
   "source": [
    "start = datetime.now()\n",
    "\n",
    "kfold = StratifiedKFold(n_splits=3, shuffle=True, random_state=11)\n",
    "\n",
    "params = {'num_leaves': 123,\n",
    "          'min_data_in_leaf': 12,\n",
    "          'objective': 'binary',\n",
    "          'max_depth': 22,\n",
    "          'learning_rate': 0.04680350949723872,\n",
    "          \"boosting\": \"gbdt\",\n",
    "          \"bagging_freq\": 5,\n",
    "          \"bagging_fraction\": 0.8933018355190274,\n",
    "          \"bagging_seed\": 11,\n",
    "          \"verbosity\": -1,\n",
    "          'reg_alpha': 0.9498109326932401,\n",
    "          'reg_lambda': 0.8058490960546196,\n",
    "          \"num_class\": 9,\n",
    "          'nthread': -1,\n",
    "          'min_split_gain': 0.009913227240564853,\n",
    "          'subsample': 0.9027358830703129\n",
    "         }\n",
    "\n",
    "X = data\n",
    "Y = ltarget\n",
    "\n",
    "model = lgb.LGBMClassifier(**params, n_estimators = 20, n_jobs = -1)\n",
    "\n",
    "results = cross_val_score(model, X, Y, cv=kfold)\n",
    "print(\"Accuracy: %.2f%%\" % (results.mean()*100))\n",
    "\n",
    "stop = datetime.now()\n",
    "execution_time = stop-start\n",
    "print(execution_time)"
   ]
  },
  {
   "cell_type": "markdown",
   "metadata": {},
   "source": [
    "Awesome!"
   ]
  },
  {
   "cell_type": "markdown",
   "metadata": {},
   "source": [
    "XGBoost Time!\n",
    "\n",
    "We will do the same order and tests as above with similar hyperparameters to see how each algorithm compares."
   ]
  },
  {
   "cell_type": "code",
   "execution_count": 14,
   "metadata": {},
   "outputs": [
    {
     "name": "stdout",
     "output_type": "stream",
     "text": [
      "[0]\ttrain-merror:0.04\tvalid_data-merror:0\n",
      "Multiple eval metrics have been passed: 'valid_data-merror' will be used for early stopping.\n",
      "\n",
      "Will train until valid_data-merror hasn't improved in 200 rounds.\n",
      "Stopping. Best iteration:\n",
      "[0]\ttrain-merror:0.04\tvalid_data-merror:0\n",
      "\n",
      "Accuracy: 100.00%\n"
     ]
    },
    {
     "data": {
      "text/plain": [
       "<matplotlib.axes._subplots.AxesSubplot at 0x1bf8ebfc8d0>"
      ]
     },
     "execution_count": 14,
     "metadata": {},
     "output_type": "execute_result"
    },
    {
     "data": {
      "image/png": "[encoded data removed]",
      "text/plain": [
       "<Figure size 432x288 with 1 Axes>"
      ]
     },
     "metadata": {
      "needs_background": "light"
     },
     "output_type": "display_data"
    }
   ],
   "source": [
    "start = datetime.now()\n",
    "\n",
    "# These are the list of parameters for the model. Reference the param guide at the start of the notebook for changing them.\n",
    "param = {'max_depth':100, 'eta':.001, 'silent':1, 'objective':'multi:softmax', 'num_class':3, 'nthread':-1}\n",
    "\n",
    "# These create custom matrices for the model to work with.\n",
    "train_data = xgb.DMatrix(data=irisd, label=irist)\n",
    "valid_data = xgb.DMatrix(data=id_test, label=it_test)\n",
    "\n",
    "# You add the matrices above into a list. The model uses to train and evaluate itself.\n",
    "watchlist = [(train_data, 'train'), (valid_data, 'valid_data')]\n",
    "# This is the main model we will use for XGBoost, The set up below this code block is for a CV model.\n",
    "model = xgb.train(dtrain=train_data, num_boost_round=20000, evals=watchlist, early_stopping_rounds=200, verbose_eval=500, params=param)\n",
    "# This is what we use to test the model's performance.\n",
    "y_pred = model.predict(valid_data, ntree_limit=model.best_ntree_limit)\n",
    "\n",
    "predictions = [round(value) for value in y_pred]\n",
    "accuracy = accuracy_score(it_test, predictions)\n",
    "print(\"Accuracy: %.2f%%\" % (accuracy * 100.0))\n",
    "\n",
    "# We can even plot how important each feature is to the model!\n",
    "xgb.plot_importance(model)\n",
    "\n",
    "stop = datetime.now()\n",
    "execution_time = stop-start\n",
    "print(execution_time)"
   ]
  },
  {
   "cell_type": "code",
   "execution_count": 15,
   "metadata": {
    "scrolled": false
   },
   "outputs": [
    {
     "name": "stdout",
     "output_type": "stream",
     "text": [
      "Accuracy: 33.33%\n"
     ]
    }
   ],
   "source": [
    "start = datetime.now()\n",
    "\n",
    "# We will not use DMatrix for the CV model. Instead load the data as such\n",
    "X = irisdata\n",
    "Y = iristarget\n",
    "\n",
    "# CV model, The params are given below instead of in a seperate dict.\n",
    "model = xgb.XGBClassifier(max_depth=100, n_estimators=0, learning_rate=0.01, objective='multi:softmax', num_class=3, n_jobs=-1)\n",
    "# You can change the KFolds but the standards are 3, 5, or 10. In this case 3 works best.\n",
    "kfold = StratifiedKFold(n_splits=3, random_state=7)\n",
    "# This is our accuracy metric.\n",
    "results = cross_val_score(model, X, Y, cv=kfold)\n",
    "print(\"Accuracy: %.2f%%\" % (results.mean()*100))\n",
    "\n",
    "stop = datetime.now()\n",
    "execution_time = stop-start\n",
    "print(execution_time)"
   ]
  },
  {
   "cell_type": "markdown",
   "metadata": {},
   "source": [
    "Now then if you are comming from the SKLearn notebook you know of my struggle with the wine dataset! Lets see if we can conquer it once and for all!!! "
   ]
  },
  {
   "cell_type": "code",
   "execution_count": null,
   "metadata": {
    "scrolled": false
   },
   "outputs": [],
   "source": [
    "start = datetime.now()\n",
    "\n",
    "param = {'max_depth':100, 'eta':.001, 'silent':1, 'objective':'binary:logistic', 'num_class':1, 'nthread':-1}\n",
    "\n",
    "train_data = xgb.DMatrix(data=wined, label=winet)\n",
    "valid_data = xgb.DMatrix(data=wd_test, label=wt_test)\n",
    "\n",
    "watchlist = [(train_data, 'train'), (valid_data, 'valid_data')]\n",
    "model = xgb.train(dtrain=train_data, num_boost_round=20000, evals=watchlist, early_stopping_rounds=200, verbose_eval=500, params=param)\n",
    "y_pred = model.predict(valid_data, ntree_limit=model.best_ntree_limit)\n",
    "\n",
    "predictions = [round(value) for value in y_pred]\n",
    "accuracy = accuracy_score(wt_test, predictions)\n",
    "print(\"Accuracy: %.2f%%\" % (accuracy * 100.0))\n",
    "\n",
    "xgb.plot_importance(model)\n",
    "\n",
    "stop = datetime.now()\n",
    "execution_time = stop-start\n",
    "print(execution_time)"
   ]
  },
  {
   "cell_type": "markdown",
   "metadata": {},
   "source": [
    "YES! Lets see how the model does with CV."
   ]
  },
  {
   "cell_type": "code",
   "execution_count": null,
   "metadata": {},
   "outputs": [],
   "source": [
    "start = datetime.now()\n",
    "\n",
    "# load data\n",
    "X = winedata\n",
    "Y = winetarget\n",
    "\n",
    "# CV model\n",
    "model = xgb.XGBClassifier(max_depth=100, n_estimators=0, learning_rate=0.01, objective='binary:logistic', n_jobs=-1)\n",
    "kfold = KFold(n_splits=3, random_state=7)\n",
    "results = cross_val_score(model, X, Y, cv=kfold)\n",
    "print(\"Accuracy: %.2f%%\" % (results.mean()*100))\n",
    "\n",
    "stop = datetime.now()\n",
    "execution_time = stop-start\n",
    "print(execution_time)"
   ]
  },
  {
   "cell_type": "markdown",
   "metadata": {},
   "source": [
    "Not that good huh? If you can't tell I'm not a huge fan of CV\n",
    "\n",
    "Ah well, Onto CCD!"
   ]
  },
  {
   "cell_type": "code",
   "execution_count": null,
   "metadata": {},
   "outputs": [],
   "source": [
    "start = datetime.now()\n",
    "\n",
    "param = {'max_depth':1, 'eta':.001, 'silent':1, 'objective':'binary:logistic', 'num_class':1, 'nthread':-1}\n",
    "\n",
    "train_data = xgb.DMatrix(data=ccd, label=cct)\n",
    "valid_data = xgb.DMatrix(data=ccd_test, label=cct_test)\n",
    "\n",
    "watchlist = [(train_data, 'train'), (valid_data, 'valid_data')]\n",
    "model = xgb.train(dtrain=train_data, num_boost_round=20, evals=watchlist, early_stopping_rounds=200, verbose_eval=500, params=param)\n",
    "y_pred = model.predict(valid_data, ntree_limit=model.best_ntree_limit)\n",
    "\n",
    "predictions = [round(value) for value in y_pred]\n",
    "accuracy = accuracy_score(cct_test, predictions)\n",
    "print(\"Accuracy: %.2f%%\" % (accuracy * 100.0))\n",
    "\n",
    "xgb.plot_importance(model)\n",
    "\n",
    "stop = datetime.now()\n",
    "execution_time = stop-start\n",
    "print(execution_time)"
   ]
  },
  {
   "cell_type": "code",
   "execution_count": null,
   "metadata": {},
   "outputs": [],
   "source": [
    "start = datetime.now()\n",
    "\n",
    "# load data\n",
    "X = ccdata\n",
    "Y = cctarget\n",
    "\n",
    "# CV model\n",
    "model = xgb.XGBClassifier(max_depth=1, n_estimators=0, learning_rate=0.001, objective='binary:logistic', n_jobs=-1)\n",
    "kfold = KFold(n_splits=3, random_state=7)\n",
    "results = cross_val_score(model, X, Y, cv=kfold)\n",
    "print(\"Accuracy: %.2f%%\" % (results.mean()*100))\n",
    "\n",
    "stop = datetime.now()\n",
    "execution_time = stop-start\n",
    "print(execution_time)"
   ]
  },
  {
   "cell_type": "code",
   "execution_count": null,
   "metadata": {},
   "outputs": [],
   "source": [
    "start = datetime.now()\n",
    "\n",
    "# Lets also do the SMOTE data to see the difference.\n",
    "param = {'max_depth':1, 'eta':.001, 'silent':1, 'objective':'binary:logistic', 'num_class':1, 'nthread':-1}\n",
    "\n",
    "train_data = xgb.DMatrix(data=ccd_SMOTE, label=cct_SMOTE)\n",
    "valid_data = xgb.DMatrix(data=ccd_test, label=cct_test)\n",
    "\n",
    "watchlist = [(train_data, 'train'), (valid_data, 'valid_data')]\n",
    "model = xgb.train(dtrain=train_data, num_boost_round=20, evals=watchlist, early_stopping_rounds=200, verbose_eval=500, params=param)\n",
    "y_pred = model.predict(valid_data, ntree_limit=model.best_ntree_limit)\n",
    "\n",
    "predictions = [round(value) for value in y_pred]\n",
    "accuracy = accuracy_score(cct_test, predictions)\n",
    "print(\"Accuracy: %.2f%%\" % (accuracy * 100.0))\n",
    "\n",
    "xgb.plot_importance(model)\n",
    "\n",
    "stop = datetime.now()\n",
    "execution_time = stop-start\n",
    "print(execution_time)"
   ]
  },
  {
   "cell_type": "markdown",
   "metadata": {},
   "source": [
    "Interesting, So there are some big differences between SMOTE, non-SMOTE and CV methods!\n",
    "\n",
    "Lets see how our IMUSD does with XGBoost."
   ]
  },
  {
   "cell_type": "code",
   "execution_count": null,
   "metadata": {},
   "outputs": [],
   "source": [
    "start = datetime.now()\n",
    "\n",
    "param = {'max_depth':1, 'eta':.001, 'silent':1, 'objective':'multi:softmax', 'num_class':9, 'nthread':-1}\n",
    "\n",
    "train_data = xgb.DMatrix(data=data, label=ltarget)\n",
    "valid_data = xgb.DMatrix(data=vdata, label=lvtarget)\n",
    "\n",
    "watchlist = [(train_data, 'train'), (valid_data, 'valid_data')]\n",
    "model = xgb.train(dtrain=train_data, num_boost_round=20, evals=watchlist, early_stopping_rounds=200, verbose_eval=500, params=param)\n",
    "y_pred = model.predict(valid_data, ntree_limit=model.best_ntree_limit)\n",
    "\n",
    "predictions = [round(value) for value in y_pred]\n",
    "accuracy = accuracy_score(lvtarget, predictions)\n",
    "print(\"Accuracy: %.2f%%\" % (accuracy * 100.0))\n",
    "\n",
    "xgb.plot_importance(model)\n",
    "\n",
    "stop = datetime.now()\n",
    "execution_time = stop-start\n",
    "print(execution_time)"
   ]
  },
  {
   "cell_type": "code",
   "execution_count": null,
   "metadata": {
    "scrolled": false
   },
   "outputs": [],
   "source": [
    "start = datetime.now()\n",
    "\n",
    "# load data\n",
    "X = wdata\n",
    "Y = wtarget\n",
    "\n",
    "# CV model\n",
    "model = xgb.XGBClassifier(max_depth=1, n_estimators=0, learning_rate=0.001, objective='multi:softmax', num_class=9, n_jobs=-1)\n",
    "kfold = StratifiedKFold(n_splits=3, random_state=7)\n",
    "results = cross_val_score(model, X, Y, cv=kfold)\n",
    "print(\"Accuracy: %.2f%%\" % (results.mean()*100))\n",
    "\n",
    "stop = datetime.now()\n",
    "execution_time = stop-start\n",
    "print(execution_time)"
   ]
  },
  {
   "cell_type": "markdown",
   "metadata": {},
   "source": [
    "Wow we see comparable results with our deep model. Not near the actual best but still good. We can see the large difference between RandomForest and regular trees and Boosted trees\n",
    "\n",
    "Thats it for this notebook! Thanks for reading, If you haven't already check out the other notebooks :)"
   ]
  }
 ],
 "metadata": {
  "kernelspec": {
   "display_name": "Python 3",
   "language": "python",
   "name": "python3"
  },
  "language_info": {
   "codemirror_mode": {
    "name": "ipython",
    "version": 3
   },
   "file_extension": ".py",
   "mimetype": "text/x-python",
   "name": "python",
   "nbconvert_exporter": "python",
   "pygments_lexer": "ipython3",
   "version": "3.6.8"
  }
 },
 "nbformat": 4,
 "nbformat_minor": 2
}
